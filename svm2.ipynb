{
 "cells": [
  {
   "cell_type": "markdown",
   "metadata": {},
   "source": [
    "## support vector machine con grid search"
   ]
  },
  {
   "cell_type": "code",
   "execution_count": null,
   "metadata": {},
   "outputs": [],
   "source": [
    "from sklearn import svm\n",
    "from sklearn.model_selection import GridSearchCV\n",
    "from sklearn.model_selection import cross_validate\n",
    "from sklearn.model_selection import LeaveOneOut\n",
    "from sklearn import metrics\n",
    "import pandas as pd\n",
    "from matplotlib import pyplot as plt\n",
    "from statistics import mean\n",
    "import numpy as np\n",
    "from IPython.core.interactiveshell import InteractiveShell\n",
    "InteractiveShell.ast_node_interactivity = 'all'\n",
    "\n",
    "\n",
    "#setting up labels for dataset\n",
    "labels = ['class', 'spec_num', 'eccentr', 'asp_ratio', 'elong', 'solidity', 'stoch_conv', 'iso_factor', 'max_ind_depth', 'lobedness', 'av_intensity', 'av_contr', 'smooth', 'third_mom', 'unif', 'entropy']\n",
    "#importing data\n",
    "df = pd.read_csv(r'./leaf/leaf.csv', header = None, names = labels)\n",
    "# shuffling the dataframe\n",
    "df = df.sample(frac=1).reset_index()\n",
    "df = df.iloc[:, 1:17]   # needed to eliminate the old indexes column\n",
    "#display(df)\n",
    "#separating y from x\n",
    "X = df.iloc[:, 2:16]\n",
    "y = df.iloc[:, 0]\n",
    "\n",
    "#display(X)"
   ]
  },
  {
   "cell_type": "markdown",
   "metadata": {},
   "source": [
    "#### grid search con k-fold CV e LOOCV"
   ]
  },
  {
   "cell_type": "markdown",
   "metadata": {},
   "source": [
    "domande:\n",
    "\n",
    "- cos'è rbf (in kernel)?\n",
    "\n",
    "- il rescaling delle variabili come si fa (probabilmente lo fa automaticamente)?\n",
    "\n",
    "- C è la tolleranza (in particolare corrisponde alla prima o alla seconda formulazione di Medvet)?\n",
    "\n",
    "- perché roc_auc_ovo e roc_auc_ovr non funzionano?\n",
    "\n",
    "- cercare modo migliore per 'elencare' i regularization parameter\n",
    "\n",
    "domande generali:\n",
    "\n",
    "- ha senso tenere spec_number nel dataset?\n",
    "\n",
    "- come si fa a mettere più di un effectivness index nella grid search?"
   ]
  },
  {
   "cell_type": "code",
   "execution_count": null,
   "metadata": {},
   "outputs": [],
   "source": [
    "k = 5\n",
    "\n",
    "# building the range of the regularization parameter (C)\n",
    "exp = np.arange(-8, 8)\n",
    "reg_param = 10.**exp\n",
    "\n",
    "grid_param = {'C': reg_param,\n",
    "              'kernel': ['linear', 'poly', 'rbf', 'sigmoid'], \n",
    "              'degree': np.arange(2, 5),\n",
    "              'decision_function_shape': ['ovo', 'ovr']}\n",
    "\n",
    "clf_cv = GridSearchCV(svm.SVC(), grid_param, cv=k, scoring='accuracy')\n",
    "clf_cv.fit(X, y)\n",
    "print(clf_cv.best_params_)\n",
    "print(clf_cv.best_score_)"
   ]
  },
  {
   "cell_type": "code",
   "execution_count": null,
   "metadata": {},
   "outputs": [],
   "source": [
    "# building the range of the regularization parameter (C)\n",
    "exp = np.arange(-8, 8)\n",
    "reg_param = 10.**exp\n",
    "\n",
    "grid_param = {'C': reg_param,\n",
    "              'kernel': ['linear', 'poly', 'rbf', 'sigmoid'], \n",
    "              'degree': np.arange(2, 5),\n",
    "              'decision_function_shape': ['ovo', 'ovr']}\n",
    "\n",
    "clf_loocv = GridSearchCV(svm.SVC(), grid_param, cv=LeaveOneOut(), scoring='accuracy')\n",
    "clf_loocv.fit(X, y)\n",
    "print(clf_loocv.best_params_)\n",
    "print(clf_loocv.best_score_)"
   ]
  }
 ],
 "metadata": {
  "kernelspec": {
   "display_name": "Python 3",
   "language": "python",
   "name": "python3"
  },
  "language_info": {
   "codemirror_mode": {
    "name": "ipython",
    "version": 3
   },
   "file_extension": ".py",
   "mimetype": "text/x-python",
   "name": "python",
   "nbconvert_exporter": "python",
   "pygments_lexer": "ipython3",
   "version": "3.10.8"
  },
  "orig_nbformat": 4,
  "vscode": {
   "interpreter": {
    "hash": "916dbcbb3f70747c44a77c7bcd40155683ae19c65e1c03b4aa3499c5328201f1"
   }
  }
 },
 "nbformat": 4,
 "nbformat_minor": 2
}
