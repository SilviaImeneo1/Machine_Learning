{
 "cells": [
  {
   "cell_type": "code",
   "execution_count": 42,
   "metadata": {},
   "outputs": [],
   "source": [
    "from sklearn import tree\n",
    "from sklearn.model_selection import GridSearchCV\n",
    "from sklearn.model_selection import cross_validate\n",
    "from sklearn.model_selection import LeaveOneOut\n",
    "from sklearn import metrics    # contains all the effectivness idexes \n",
    "import pandas as pd    # for the dataset\n",
    "from matplotlib import pyplot as plt\n",
    "from statistics import mean\n",
    "import numpy as np"
   ]
  },
  {
   "cell_type": "markdown",
   "metadata": {},
   "source": [
    "#### getting the dataset"
   ]
  },
  {
   "cell_type": "code",
   "execution_count": 43,
   "metadata": {},
   "outputs": [
    {
     "data": {
      "text/html": [
       "<div>\n",
       "<style scoped>\n",
       "    .dataframe tbody tr th:only-of-type {\n",
       "        vertical-align: middle;\n",
       "    }\n",
       "\n",
       "    .dataframe tbody tr th {\n",
       "        vertical-align: top;\n",
       "    }\n",
       "\n",
       "    .dataframe thead th {\n",
       "        text-align: right;\n",
       "    }\n",
       "</style>\n",
       "<table border=\"1\" class=\"dataframe\">\n",
       "  <thead>\n",
       "    <tr style=\"text-align: right;\">\n",
       "      <th></th>\n",
       "      <th>class</th>\n",
       "      <th>spec_number</th>\n",
       "      <th>eccentr</th>\n",
       "      <th>asp_ratio</th>\n",
       "      <th>elong</th>\n",
       "      <th>solidity</th>\n",
       "      <th>stoch_conv</th>\n",
       "      <th>iso_factor</th>\n",
       "      <th>max_ind_depth</th>\n",
       "      <th>lobedness</th>\n",
       "      <th>av_intensity</th>\n",
       "      <th>av_contr</th>\n",
       "      <th>smooth</th>\n",
       "      <th>third_mom</th>\n",
       "      <th>unif</th>\n",
       "      <th>entropy</th>\n",
       "    </tr>\n",
       "  </thead>\n",
       "  <tbody>\n",
       "    <tr>\n",
       "      <th>0</th>\n",
       "      <td>1</td>\n",
       "      <td>6</td>\n",
       "      <td>0.72997</td>\n",
       "      <td>1.4892</td>\n",
       "      <td>0.34284</td>\n",
       "      <td>0.98755</td>\n",
       "      <td>1.00000</td>\n",
       "      <td>0.84482</td>\n",
       "      <td>0.004945</td>\n",
       "      <td>0.004451</td>\n",
       "      <td>0.010487</td>\n",
       "      <td>0.058528</td>\n",
       "      <td>0.003414</td>\n",
       "      <td>0.001125</td>\n",
       "      <td>0.000025</td>\n",
       "      <td>0.34068</td>\n",
       "    </tr>\n",
       "    <tr>\n",
       "      <th>1</th>\n",
       "      <td>35</td>\n",
       "      <td>9</td>\n",
       "      <td>0.91707</td>\n",
       "      <td>2.6504</td>\n",
       "      <td>0.63359</td>\n",
       "      <td>0.96002</td>\n",
       "      <td>0.99298</td>\n",
       "      <td>0.53972</td>\n",
       "      <td>0.012062</td>\n",
       "      <td>0.026481</td>\n",
       "      <td>0.101210</td>\n",
       "      <td>0.184330</td>\n",
       "      <td>0.032861</td>\n",
       "      <td>0.008966</td>\n",
       "      <td>0.001415</td>\n",
       "      <td>1.79790</td>\n",
       "    </tr>\n",
       "    <tr>\n",
       "      <th>2</th>\n",
       "      <td>9</td>\n",
       "      <td>14</td>\n",
       "      <td>0.55112</td>\n",
       "      <td>1.2821</td>\n",
       "      <td>0.39683</td>\n",
       "      <td>0.88375</td>\n",
       "      <td>0.99649</td>\n",
       "      <td>0.49492</td>\n",
       "      <td>0.030576</td>\n",
       "      <td>0.170150</td>\n",
       "      <td>0.062015</td>\n",
       "      <td>0.146210</td>\n",
       "      <td>0.020930</td>\n",
       "      <td>0.006369</td>\n",
       "      <td>0.000677</td>\n",
       "      <td>1.26590</td>\n",
       "    </tr>\n",
       "    <tr>\n",
       "      <th>3</th>\n",
       "      <td>25</td>\n",
       "      <td>6</td>\n",
       "      <td>0.78310</td>\n",
       "      <td>1.5389</td>\n",
       "      <td>0.42639</td>\n",
       "      <td>0.94648</td>\n",
       "      <td>0.97544</td>\n",
       "      <td>0.65478</td>\n",
       "      <td>0.038706</td>\n",
       "      <td>0.272660</td>\n",
       "      <td>0.126070</td>\n",
       "      <td>0.244690</td>\n",
       "      <td>0.056492</td>\n",
       "      <td>0.023259</td>\n",
       "      <td>0.000668</td>\n",
       "      <td>1.85040</td>\n",
       "    </tr>\n",
       "    <tr>\n",
       "      <th>4</th>\n",
       "      <td>14</td>\n",
       "      <td>8</td>\n",
       "      <td>0.94058</td>\n",
       "      <td>3.0366</td>\n",
       "      <td>0.69248</td>\n",
       "      <td>0.93952</td>\n",
       "      <td>0.99474</td>\n",
       "      <td>0.42979</td>\n",
       "      <td>0.031219</td>\n",
       "      <td>0.177380</td>\n",
       "      <td>0.038691</td>\n",
       "      <td>0.107600</td>\n",
       "      <td>0.011445</td>\n",
       "      <td>0.003216</td>\n",
       "      <td>0.000248</td>\n",
       "      <td>1.08430</td>\n",
       "    </tr>\n",
       "    <tr>\n",
       "      <th>...</th>\n",
       "      <td>...</td>\n",
       "      <td>...</td>\n",
       "      <td>...</td>\n",
       "      <td>...</td>\n",
       "      <td>...</td>\n",
       "      <td>...</td>\n",
       "      <td>...</td>\n",
       "      <td>...</td>\n",
       "      <td>...</td>\n",
       "      <td>...</td>\n",
       "      <td>...</td>\n",
       "      <td>...</td>\n",
       "      <td>...</td>\n",
       "      <td>...</td>\n",
       "      <td>...</td>\n",
       "      <td>...</td>\n",
       "    </tr>\n",
       "    <tr>\n",
       "      <th>335</th>\n",
       "      <td>30</td>\n",
       "      <td>4</td>\n",
       "      <td>0.55518</td>\n",
       "      <td>1.2318</td>\n",
       "      <td>0.25226</td>\n",
       "      <td>0.94783</td>\n",
       "      <td>0.99123</td>\n",
       "      <td>0.54965</td>\n",
       "      <td>0.015115</td>\n",
       "      <td>0.041582</td>\n",
       "      <td>0.059148</td>\n",
       "      <td>0.139960</td>\n",
       "      <td>0.019211</td>\n",
       "      <td>0.005734</td>\n",
       "      <td>0.000421</td>\n",
       "      <td>1.35790</td>\n",
       "    </tr>\n",
       "    <tr>\n",
       "      <th>336</th>\n",
       "      <td>23</td>\n",
       "      <td>5</td>\n",
       "      <td>0.56840</td>\n",
       "      <td>1.1876</td>\n",
       "      <td>0.48001</td>\n",
       "      <td>0.91247</td>\n",
       "      <td>0.79474</td>\n",
       "      <td>0.38850</td>\n",
       "      <td>0.089162</td>\n",
       "      <td>1.446900</td>\n",
       "      <td>0.027113</td>\n",
       "      <td>0.101820</td>\n",
       "      <td>0.010261</td>\n",
       "      <td>0.003789</td>\n",
       "      <td>0.000107</td>\n",
       "      <td>0.65567</td>\n",
       "    </tr>\n",
       "    <tr>\n",
       "      <th>337</th>\n",
       "      <td>23</td>\n",
       "      <td>10</td>\n",
       "      <td>0.63548</td>\n",
       "      <td>1.2020</td>\n",
       "      <td>0.47365</td>\n",
       "      <td>0.89373</td>\n",
       "      <td>0.86842</td>\n",
       "      <td>0.44347</td>\n",
       "      <td>0.077616</td>\n",
       "      <td>1.096400</td>\n",
       "      <td>0.022403</td>\n",
       "      <td>0.103860</td>\n",
       "      <td>0.010672</td>\n",
       "      <td>0.005084</td>\n",
       "      <td>0.000031</td>\n",
       "      <td>0.48911</td>\n",
       "    </tr>\n",
       "    <tr>\n",
       "      <th>338</th>\n",
       "      <td>1</td>\n",
       "      <td>4</td>\n",
       "      <td>0.73797</td>\n",
       "      <td>1.4597</td>\n",
       "      <td>0.35376</td>\n",
       "      <td>0.97566</td>\n",
       "      <td>1.00000</td>\n",
       "      <td>0.81697</td>\n",
       "      <td>0.006877</td>\n",
       "      <td>0.008607</td>\n",
       "      <td>0.015950</td>\n",
       "      <td>0.065491</td>\n",
       "      <td>0.004271</td>\n",
       "      <td>0.001154</td>\n",
       "      <td>0.000066</td>\n",
       "      <td>0.58785</td>\n",
       "    </tr>\n",
       "    <tr>\n",
       "      <th>339</th>\n",
       "      <td>13</td>\n",
       "      <td>6</td>\n",
       "      <td>0.62033</td>\n",
       "      <td>1.3105</td>\n",
       "      <td>0.26312</td>\n",
       "      <td>0.98535</td>\n",
       "      <td>1.00000</td>\n",
       "      <td>0.82478</td>\n",
       "      <td>0.004990</td>\n",
       "      <td>0.004531</td>\n",
       "      <td>0.070042</td>\n",
       "      <td>0.146550</td>\n",
       "      <td>0.021025</td>\n",
       "      <td>0.005802</td>\n",
       "      <td>0.000530</td>\n",
       "      <td>1.70500</td>\n",
       "    </tr>\n",
       "  </tbody>\n",
       "</table>\n",
       "<p>340 rows × 16 columns</p>\n",
       "</div>"
      ],
      "text/plain": [
       "     class  spec_number  eccentr  asp_ratio    elong  solidity  stoch_conv  \\\n",
       "0        1            6  0.72997     1.4892  0.34284   0.98755     1.00000   \n",
       "1       35            9  0.91707     2.6504  0.63359   0.96002     0.99298   \n",
       "2        9           14  0.55112     1.2821  0.39683   0.88375     0.99649   \n",
       "3       25            6  0.78310     1.5389  0.42639   0.94648     0.97544   \n",
       "4       14            8  0.94058     3.0366  0.69248   0.93952     0.99474   \n",
       "..     ...          ...      ...        ...      ...       ...         ...   \n",
       "335     30            4  0.55518     1.2318  0.25226   0.94783     0.99123   \n",
       "336     23            5  0.56840     1.1876  0.48001   0.91247     0.79474   \n",
       "337     23           10  0.63548     1.2020  0.47365   0.89373     0.86842   \n",
       "338      1            4  0.73797     1.4597  0.35376   0.97566     1.00000   \n",
       "339     13            6  0.62033     1.3105  0.26312   0.98535     1.00000   \n",
       "\n",
       "     iso_factor  max_ind_depth  lobedness  av_intensity  av_contr    smooth  \\\n",
       "0       0.84482       0.004945   0.004451      0.010487  0.058528  0.003414   \n",
       "1       0.53972       0.012062   0.026481      0.101210  0.184330  0.032861   \n",
       "2       0.49492       0.030576   0.170150      0.062015  0.146210  0.020930   \n",
       "3       0.65478       0.038706   0.272660      0.126070  0.244690  0.056492   \n",
       "4       0.42979       0.031219   0.177380      0.038691  0.107600  0.011445   \n",
       "..          ...            ...        ...           ...       ...       ...   \n",
       "335     0.54965       0.015115   0.041582      0.059148  0.139960  0.019211   \n",
       "336     0.38850       0.089162   1.446900      0.027113  0.101820  0.010261   \n",
       "337     0.44347       0.077616   1.096400      0.022403  0.103860  0.010672   \n",
       "338     0.81697       0.006877   0.008607      0.015950  0.065491  0.004271   \n",
       "339     0.82478       0.004990   0.004531      0.070042  0.146550  0.021025   \n",
       "\n",
       "     third_mom      unif  entropy  \n",
       "0     0.001125  0.000025  0.34068  \n",
       "1     0.008966  0.001415  1.79790  \n",
       "2     0.006369  0.000677  1.26590  \n",
       "3     0.023259  0.000668  1.85040  \n",
       "4     0.003216  0.000248  1.08430  \n",
       "..         ...       ...      ...  \n",
       "335   0.005734  0.000421  1.35790  \n",
       "336   0.003789  0.000107  0.65567  \n",
       "337   0.005084  0.000031  0.48911  \n",
       "338   0.001154  0.000066  0.58785  \n",
       "339   0.005802  0.000530  1.70500  \n",
       "\n",
       "[340 rows x 16 columns]"
      ]
     },
     "metadata": {},
     "output_type": "display_data"
    }
   ],
   "source": [
    "labels = ['class', 'spec_number', 'eccentr', 'asp_ratio', 'elong', 'solidity', 'stoch_conv', 'iso_factor', 'max_ind_depth', 'lobedness', 'av_intensity', 'av_contr', 'smooth', 'third_mom', 'unif', 'entropy']\n",
    "\n",
    "df = pd.read_csv(r'./leaf/leaf.csv', header = None, names = labels)\n",
    "display(df)"
   ]
  },
  {
   "cell_type": "code",
   "execution_count": 44,
   "metadata": {},
   "outputs": [],
   "source": [
    "t = tree.DecisionTreeClassifier()\n",
    "\n",
    "x = df.iloc[:, 1:16]\n",
    "y = df.iloc[:, 0]"
   ]
  },
  {
   "cell_type": "code",
   "execution_count": 40,
   "metadata": {},
   "outputs": [],
   "source": [
    "# initializing a first tree\n",
    "\n",
    "# min_sample_split is the minimum number of observations allowed in a node to perform a split\n",
    "# criterion is the index used while splitting to find the best branch\n",
    "# min_impurity_decrease is minimum amount of impurity decrease after a split allowed to perform a split\n",
    "\n",
    "t_first = tree.DecisionTreeClassifier(min_samples_split=2, criterion='gini', min_impurity_decrease=0.)"
   ]
  },
  {
   "cell_type": "code",
   "execution_count": 49,
   "metadata": {},
   "outputs": [
    {
     "name": "stdout",
     "output_type": "stream",
     "text": [
      "{'criterion': 'entropy', 'min_samples_split': 6}\n"
     ]
    }
   ],
   "source": [
    "# using grid search to find the best hyperparameters and initializing the tree\n",
    "\n",
    "grid_param = {'criterion': ['gini', 'entropy'], 'min_samples_split': np.array(range(2, 8))}\n",
    "t = GridSearchCV(tree.DecisionTreeClassifier(), grid_param, cv=5, scoring='accuracy')\n",
    "t.fit(x, y)\n",
    "print(t.best_params_)"
   ]
  },
  {
   "cell_type": "markdown",
   "metadata": {},
   "source": [
    "#### first attempt to fit a tree"
   ]
  },
  {
   "cell_type": "code",
   "execution_count": 41,
   "metadata": {},
   "outputs": [
    {
     "data": {
      "text/html": [
       "<style>#sk-container-id-2 {color: black;background-color: white;}#sk-container-id-2 pre{padding: 0;}#sk-container-id-2 div.sk-toggleable {background-color: white;}#sk-container-id-2 label.sk-toggleable__label {cursor: pointer;display: block;width: 100%;margin-bottom: 0;padding: 0.3em;box-sizing: border-box;text-align: center;}#sk-container-id-2 label.sk-toggleable__label-arrow:before {content: \"▸\";float: left;margin-right: 0.25em;color: #696969;}#sk-container-id-2 label.sk-toggleable__label-arrow:hover:before {color: black;}#sk-container-id-2 div.sk-estimator:hover label.sk-toggleable__label-arrow:before {color: black;}#sk-container-id-2 div.sk-toggleable__content {max-height: 0;max-width: 0;overflow: hidden;text-align: left;background-color: #f0f8ff;}#sk-container-id-2 div.sk-toggleable__content pre {margin: 0.2em;color: black;border-radius: 0.25em;background-color: #f0f8ff;}#sk-container-id-2 input.sk-toggleable__control:checked~div.sk-toggleable__content {max-height: 200px;max-width: 100%;overflow: auto;}#sk-container-id-2 input.sk-toggleable__control:checked~label.sk-toggleable__label-arrow:before {content: \"▾\";}#sk-container-id-2 div.sk-estimator input.sk-toggleable__control:checked~label.sk-toggleable__label {background-color: #d4ebff;}#sk-container-id-2 div.sk-label input.sk-toggleable__control:checked~label.sk-toggleable__label {background-color: #d4ebff;}#sk-container-id-2 input.sk-hidden--visually {border: 0;clip: rect(1px 1px 1px 1px);clip: rect(1px, 1px, 1px, 1px);height: 1px;margin: -1px;overflow: hidden;padding: 0;position: absolute;width: 1px;}#sk-container-id-2 div.sk-estimator {font-family: monospace;background-color: #f0f8ff;border: 1px dotted black;border-radius: 0.25em;box-sizing: border-box;margin-bottom: 0.5em;}#sk-container-id-2 div.sk-estimator:hover {background-color: #d4ebff;}#sk-container-id-2 div.sk-parallel-item::after {content: \"\";width: 100%;border-bottom: 1px solid gray;flex-grow: 1;}#sk-container-id-2 div.sk-label:hover label.sk-toggleable__label {background-color: #d4ebff;}#sk-container-id-2 div.sk-serial::before {content: \"\";position: absolute;border-left: 1px solid gray;box-sizing: border-box;top: 0;bottom: 0;left: 50%;z-index: 0;}#sk-container-id-2 div.sk-serial {display: flex;flex-direction: column;align-items: center;background-color: white;padding-right: 0.2em;padding-left: 0.2em;position: relative;}#sk-container-id-2 div.sk-item {position: relative;z-index: 1;}#sk-container-id-2 div.sk-parallel {display: flex;align-items: stretch;justify-content: center;background-color: white;position: relative;}#sk-container-id-2 div.sk-item::before, #sk-container-id-2 div.sk-parallel-item::before {content: \"\";position: absolute;border-left: 1px solid gray;box-sizing: border-box;top: 0;bottom: 0;left: 50%;z-index: -1;}#sk-container-id-2 div.sk-parallel-item {display: flex;flex-direction: column;z-index: 1;position: relative;background-color: white;}#sk-container-id-2 div.sk-parallel-item:first-child::after {align-self: flex-end;width: 50%;}#sk-container-id-2 div.sk-parallel-item:last-child::after {align-self: flex-start;width: 50%;}#sk-container-id-2 div.sk-parallel-item:only-child::after {width: 0;}#sk-container-id-2 div.sk-dashed-wrapped {border: 1px dashed gray;margin: 0 0.4em 0.5em 0.4em;box-sizing: border-box;padding-bottom: 0.4em;background-color: white;}#sk-container-id-2 div.sk-label label {font-family: monospace;font-weight: bold;display: inline-block;line-height: 1.2em;}#sk-container-id-2 div.sk-label-container {text-align: center;}#sk-container-id-2 div.sk-container {/* jupyter's `normalize.less` sets `[hidden] { display: none; }` but bootstrap.min.css set `[hidden] { display: none !important; }` so we also need the `!important` here to be able to override the default hidden behavior on the sphinx rendered scikit-learn.org. See: https://github.com/scikit-learn/scikit-learn/issues/21755 */display: inline-block !important;position: relative;}#sk-container-id-2 div.sk-text-repr-fallback {display: none;}</style><div id=\"sk-container-id-2\" class=\"sk-top-container\"><div class=\"sk-text-repr-fallback\"><pre>DecisionTreeClassifier()</pre><b>In a Jupyter environment, please rerun this cell to show the HTML representation or trust the notebook. <br />On GitHub, the HTML representation is unable to render, please try loading this page with nbviewer.org.</b></div><div class=\"sk-container\" hidden><div class=\"sk-item\"><div class=\"sk-estimator sk-toggleable\"><input class=\"sk-toggleable__control sk-hidden--visually\" id=\"sk-estimator-id-4\" type=\"checkbox\" checked><label for=\"sk-estimator-id-4\" class=\"sk-toggleable__label sk-toggleable__label-arrow\">DecisionTreeClassifier</label><div class=\"sk-toggleable__content\"><pre>DecisionTreeClassifier()</pre></div></div></div></div></div>"
      ],
      "text/plain": [
       "DecisionTreeClassifier()"
      ]
     },
     "execution_count": 41,
     "metadata": {},
     "output_type": "execute_result"
    }
   ],
   "source": [
    "t_first.fit(x, y)"
   ]
  },
  {
   "cell_type": "code",
   "execution_count": 10,
   "metadata": {},
   "outputs": [
    {
     "data": {
      "image/png": "[encoded data removed]",
      "text/plain": [
       "<Figure size 640x480 with 1 Axes>"
      ]
     },
     "metadata": {},
     "output_type": "display_data"
    }
   ],
   "source": [
    "tree.plot_tree(t_first)\n",
    "plt.savefig(\"tree\", dpi=1000)"
   ]
  },
  {
   "cell_type": "code",
   "execution_count": 11,
   "metadata": {},
   "outputs": [
    {
     "name": "stdout",
     "output_type": "stream",
     "text": [
      "1.0\n"
     ]
    }
   ],
   "source": [
    "# prints effectiveness (should be maximum because min_sample_split=2)\n",
    "\n",
    "print(t_first.score(x, y))"
   ]
  },
  {
   "cell_type": "markdown",
   "metadata": {},
   "source": [
    "#### evaluation of the technique using cross validation"
   ]
  },
  {
   "cell_type": "code",
   "execution_count": 5,
   "metadata": {},
   "outputs": [
    {
     "name": "stdout",
     "output_type": "stream",
     "text": [
      "['accuracy', 'adjusted_mutual_info_score', 'adjusted_rand_score', 'average_precision', 'balanced_accuracy', 'completeness_score', 'explained_variance', 'f1', 'f1_macro', 'f1_micro', 'f1_samples', 'f1_weighted', 'fowlkes_mallows_score', 'homogeneity_score', 'jaccard', 'jaccard_macro', 'jaccard_micro', 'jaccard_samples', 'jaccard_weighted', 'matthews_corrcoef', 'max_error', 'mutual_info_score', 'neg_brier_score', 'neg_log_loss', 'neg_mean_absolute_error', 'neg_mean_absolute_percentage_error', 'neg_mean_gamma_deviance', 'neg_mean_poisson_deviance', 'neg_mean_squared_error', 'neg_mean_squared_log_error', 'neg_median_absolute_error', 'neg_root_mean_squared_error', 'normalized_mutual_info_score', 'precision', 'precision_macro', 'precision_micro', 'precision_samples', 'precision_weighted', 'r2', 'rand_score', 'recall', 'recall_macro', 'recall_micro', 'recall_samples', 'recall_weighted', 'roc_auc', 'roc_auc_ovo', 'roc_auc_ovo_weighted', 'roc_auc_ovr', 'roc_auc_ovr_weighted', 'top_k_accuracy', 'v_measure_score']\n"
     ]
    }
   ],
   "source": [
    "# names of all effectivness indexes available in sklearn\n",
    "\n",
    "# note that roc_auc doesn't work in cv because it is a multiclass classification (we need to specify\n",
    "# ovo or ovr) and that all roc_auc variants don't work in loocv because the testing sets contain\n",
    "# only one observation\n",
    "\n",
    "print(metrics.get_scorer_names())"
   ]
  },
  {
   "cell_type": "code",
   "execution_count": 50,
   "metadata": {},
   "outputs": [
    {
     "name": "stdout",
     "output_type": "stream",
     "text": [
      "0.6176470588235294\n",
      "0.8129501915708812\n",
      "0.8129533103712209\n"
     ]
    }
   ],
   "source": [
    "# k-fold cross validation\n",
    "\n",
    "k = 5\n",
    "\n",
    "effect_cv = cross_validate(t, x, y, cv=k, scoring=('accuracy', 'roc_auc_ovo', 'roc_auc_ovr'))\n",
    "\n",
    "print(mean(effect_cv['test_accuracy']))\n",
    "print(mean(effect_cv['test_roc_auc_ovo']))\n",
    "print(mean(effect_cv['test_roc_auc_ovr']))"
   ]
  },
  {
   "cell_type": "code",
   "execution_count": 51,
   "metadata": {},
   "outputs": [
    {
     "name": "stdout",
     "output_type": "stream",
     "text": [
      "0.5970588235294118\n"
     ]
    }
   ],
   "source": [
    "effect = cross_validate(t, x, y, cv = )\n",
    "\n",
    "print(effect)"
   ]
  }
 ],
 "metadata": {
  "kernelspec": {
   "display_name": "Python 3",
   "language": "python",
   "name": "python3"
  },
  "language_info": {
   "codemirror_mode": {
    "name": "ipython",
    "version": 3
   },
   "file_extension": ".py",
   "mimetype": "text/x-python",
   "name": "python",
   "nbconvert_exporter": "python",
   "pygments_lexer": "ipython3",
   "version": "3.10.8"
  },
  "orig_nbformat": 4,
  "vscode": {
   "interpreter": {
    "hash": "916dbcbb3f70747c44a77c7bcd40155683ae19c65e1c03b4aa3499c5328201f1"
   }
  }
 },
 "nbformat": 4,
 "nbformat_minor": 2
}
