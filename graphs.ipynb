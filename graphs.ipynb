{
 "cells": [
  {
   "attachments": {},
   "cell_type": "markdown",
   "metadata": {},
   "source": [
    "## Grafici"
   ]
  },
  {
   "cell_type": "code",
   "execution_count": 1,
   "metadata": {},
   "outputs": [],
   "source": [
    "# for the dataset\n",
    "import pandas as pd    \n",
    "import numpy as np\n",
    "\n",
    "# general\n",
    "from sklearn.model_selection import GridSearchCV\n",
    "from sklearn.model_selection import cross_validate\n",
    "# from sklearn.model_selection import train_test_split\n",
    "# from sklearn.metrics import accuracy_score\n",
    "import time\n",
    "\n",
    "# for the tree\n",
    "from sklearn.tree import DecisionTreeClassifier\n",
    "from sklearn import tree\n",
    "\n",
    "# for the Random forest\n",
    "from sklearn.ensemble import RandomForestClassifier\n",
    "\n",
    "# for the SVM + packages for pipelines and scaling\n",
    "from sklearn import svm\n",
    "from sklearn.svm import SVC\n",
    "from sklearn.pipeline import Pipeline\n",
    "from sklearn.preprocessing import StandardScaler\n",
    "from sklearn.metrics import accuracy_score\n",
    "\n",
    "# for the Gaussian\n",
    "from sklearn.naive_bayes import GaussianNB\n",
    "\n",
    "# for KNN\n",
    "from sklearn.neighbors import KNeighborsClassifier\n",
    "\n",
    "# to print more results and not just the last one\n",
    "from IPython.core.interactiveshell import InteractiveShell\n",
    "InteractiveShell.ast_node_interactivity = 'all'"
   ]
  },
  {
   "cell_type": "code",
   "execution_count": 2,
   "metadata": {},
   "outputs": [],
   "source": [
    "#Dataset\n",
    "\n",
    "# setting up labels for dataset\n",
    "labels = ('class', 'spec_num', 'eccentr', 'asp_ratio', 'elong', 'solidity', 'stoch_conv', 'iso_factor', 'max_ind_depth', 'lobedness', 'av_intensity', 'av_contr', 'smooth', 'third_mom', 'unif', 'entropy')\n",
    "\n",
    "# importing data\n",
    "df = pd.read_csv(r'./leaf/leaf.csv', header = None, names = labels)"
   ]
  },
  {
   "cell_type": "code",
   "execution_count": 28,
   "metadata": {},
   "outputs": [],
   "source": [
    "# for training and testing static division, if needed\n",
    "# X_train, X_test, y_train, y_test = train_test_split(X, y, random_state=100)"
   ]
  },
  {
   "attachments": {},
   "cell_type": "markdown",
   "metadata": {},
   "source": [
    "### Single tree"
   ]
  },
  {
   "cell_type": "code",
   "execution_count": 6,
   "metadata": {},
   "outputs": [
    {
     "data": {
      "text/html": [
       "<style>#sk-container-id-4 {color: black;background-color: white;}#sk-container-id-4 pre{padding: 0;}#sk-container-id-4 div.sk-toggleable {background-color: white;}#sk-container-id-4 label.sk-toggleable__label {cursor: pointer;display: block;width: 100%;margin-bottom: 0;padding: 0.3em;box-sizing: border-box;text-align: center;}#sk-container-id-4 label.sk-toggleable__label-arrow:before {content: \"▸\";float: left;margin-right: 0.25em;color: #696969;}#sk-container-id-4 label.sk-toggleable__label-arrow:hover:before {color: black;}#sk-container-id-4 div.sk-estimator:hover label.sk-toggleable__label-arrow:before {color: black;}#sk-container-id-4 div.sk-toggleable__content {max-height: 0;max-width: 0;overflow: hidden;text-align: left;background-color: #f0f8ff;}#sk-container-id-4 div.sk-toggleable__content pre {margin: 0.2em;color: black;border-radius: 0.25em;background-color: #f0f8ff;}#sk-container-id-4 input.sk-toggleable__control:checked~div.sk-toggleable__content {max-height: 200px;max-width: 100%;overflow: auto;}#sk-container-id-4 input.sk-toggleable__control:checked~label.sk-toggleable__label-arrow:before {content: \"▾\";}#sk-container-id-4 div.sk-estimator input.sk-toggleable__control:checked~label.sk-toggleable__label {background-color: #d4ebff;}#sk-container-id-4 div.sk-label input.sk-toggleable__control:checked~label.sk-toggleable__label {background-color: #d4ebff;}#sk-container-id-4 input.sk-hidden--visually {border: 0;clip: rect(1px 1px 1px 1px);clip: rect(1px, 1px, 1px, 1px);height: 1px;margin: -1px;overflow: hidden;padding: 0;position: absolute;width: 1px;}#sk-container-id-4 div.sk-estimator {font-family: monospace;background-color: #f0f8ff;border: 1px dotted black;border-radius: 0.25em;box-sizing: border-box;margin-bottom: 0.5em;}#sk-container-id-4 div.sk-estimator:hover {background-color: #d4ebff;}#sk-container-id-4 div.sk-parallel-item::after {content: \"\";width: 100%;border-bottom: 1px solid gray;flex-grow: 1;}#sk-container-id-4 div.sk-label:hover label.sk-toggleable__label {background-color: #d4ebff;}#sk-container-id-4 div.sk-serial::before {content: \"\";position: absolute;border-left: 1px solid gray;box-sizing: border-box;top: 0;bottom: 0;left: 50%;z-index: 0;}#sk-container-id-4 div.sk-serial {display: flex;flex-direction: column;align-items: center;background-color: white;padding-right: 0.2em;padding-left: 0.2em;position: relative;}#sk-container-id-4 div.sk-item {position: relative;z-index: 1;}#sk-container-id-4 div.sk-parallel {display: flex;align-items: stretch;justify-content: center;background-color: white;position: relative;}#sk-container-id-4 div.sk-item::before, #sk-container-id-4 div.sk-parallel-item::before {content: \"\";position: absolute;border-left: 1px solid gray;box-sizing: border-box;top: 0;bottom: 0;left: 50%;z-index: -1;}#sk-container-id-4 div.sk-parallel-item {display: flex;flex-direction: column;z-index: 1;position: relative;background-color: white;}#sk-container-id-4 div.sk-parallel-item:first-child::after {align-self: flex-end;width: 50%;}#sk-container-id-4 div.sk-parallel-item:last-child::after {align-self: flex-start;width: 50%;}#sk-container-id-4 div.sk-parallel-item:only-child::after {width: 0;}#sk-container-id-4 div.sk-dashed-wrapped {border: 1px dashed gray;margin: 0 0.4em 0.5em 0.4em;box-sizing: border-box;padding-bottom: 0.4em;background-color: white;}#sk-container-id-4 div.sk-label label {font-family: monospace;font-weight: bold;display: inline-block;line-height: 1.2em;}#sk-container-id-4 div.sk-label-container {text-align: center;}#sk-container-id-4 div.sk-container {/* jupyter's `normalize.less` sets `[hidden] { display: none; }` but bootstrap.min.css set `[hidden] { display: none !important; }` so we also need the `!important` here to be able to override the default hidden behavior on the sphinx rendered scikit-learn.org. See: https://github.com/scikit-learn/scikit-learn/issues/21755 */display: inline-block !important;position: relative;}#sk-container-id-4 div.sk-text-repr-fallback {display: none;}</style><div id=\"sk-container-id-4\" class=\"sk-top-container\"><div class=\"sk-text-repr-fallback\"><pre>GridSearchCV(cv=8, estimator=DecisionTreeClassifier(),\n",
       "             param_grid={&#x27;criterion&#x27;: [&#x27;gini&#x27;, &#x27;entropy&#x27;],\n",
       "                         &#x27;min_samples_split&#x27;: array([ 2,  3,  4,  5,  6,  7,  8,  9, 10, 11, 12, 13, 14, 15, 16, 17, 18,\n",
       "       19])},\n",
       "             scoring=&#x27;balanced_accuracy&#x27;)</pre><b>In a Jupyter environment, please rerun this cell to show the HTML representation or trust the notebook. <br />On GitHub, the HTML representation is unable to render, please try loading this page with nbviewer.org.</b></div><div class=\"sk-container\" hidden><div class=\"sk-item sk-dashed-wrapped\"><div class=\"sk-label-container\"><div class=\"sk-label sk-toggleable\"><input class=\"sk-toggleable__control sk-hidden--visually\" id=\"sk-estimator-id-10\" type=\"checkbox\" ><label for=\"sk-estimator-id-10\" class=\"sk-toggleable__label sk-toggleable__label-arrow\">GridSearchCV</label><div class=\"sk-toggleable__content\"><pre>GridSearchCV(cv=8, estimator=DecisionTreeClassifier(),\n",
       "             param_grid={&#x27;criterion&#x27;: [&#x27;gini&#x27;, &#x27;entropy&#x27;],\n",
       "                         &#x27;min_samples_split&#x27;: array([ 2,  3,  4,  5,  6,  7,  8,  9, 10, 11, 12, 13, 14, 15, 16, 17, 18,\n",
       "       19])},\n",
       "             scoring=&#x27;balanced_accuracy&#x27;)</pre></div></div></div><div class=\"sk-parallel\"><div class=\"sk-parallel-item\"><div class=\"sk-item\"><div class=\"sk-label-container\"><div class=\"sk-label sk-toggleable\"><input class=\"sk-toggleable__control sk-hidden--visually\" id=\"sk-estimator-id-11\" type=\"checkbox\" ><label for=\"sk-estimator-id-11\" class=\"sk-toggleable__label sk-toggleable__label-arrow\">estimator: DecisionTreeClassifier</label><div class=\"sk-toggleable__content\"><pre>DecisionTreeClassifier()</pre></div></div></div><div class=\"sk-serial\"><div class=\"sk-item\"><div class=\"sk-estimator sk-toggleable\"><input class=\"sk-toggleable__control sk-hidden--visually\" id=\"sk-estimator-id-12\" type=\"checkbox\" ><label for=\"sk-estimator-id-12\" class=\"sk-toggleable__label sk-toggleable__label-arrow\">DecisionTreeClassifier</label><div class=\"sk-toggleable__content\"><pre>DecisionTreeClassifier()</pre></div></div></div></div></div></div></div></div></div></div>"
      ],
      "text/plain": [
       "GridSearchCV(cv=8, estimator=DecisionTreeClassifier(),\n",
       "             param_grid={'criterion': ['gini', 'entropy'],\n",
       "                         'min_samples_split': array([ 2,  3,  4,  5,  6,  7,  8,  9, 10, 11, 12, 13, 14, 15, 16, 17, 18,\n",
       "       19])},\n",
       "             scoring='balanced_accuracy')"
      ]
     },
     "execution_count": 6,
     "metadata": {},
     "output_type": "execute_result"
    },
    {
     "name": "stdout",
     "output_type": "stream",
     "text": [
      "0.7000000000000001\n",
      "{'criterion': 'entropy', 'min_samples_split': 3}\n"
     ]
    }
   ],
   "source": [
    "# NON SERVE RUNNARE\n",
    "# ho considerato i parametri riportati nell'ultima riga\n",
    "\n",
    "#Grid Search - finding best estimators\n",
    "\n",
    "# shuffling the dataframe + separating y from x + eliminating specimen number variable\n",
    "df = df.sample(frac=1).reset_index()\n",
    "df = df.iloc[:, 1:17]   # needed to eliminate the old indexes column\n",
    "X = df.iloc[:, 2:16]\n",
    "y = df.iloc[:, 0]\n",
    "\n",
    "# griglia dei parametri su cui fare la ricerca\n",
    "# for n-min in proglie c'è da 2 a 40, ma forse 40 è troppo alto visto che le osservazioni sono meno di 400\n",
    "grid_param = {'criterion': ['gini', 'entropy'], 'min_samples_split': np.arange(2, 20)}\n",
    "\n",
    "tree_cv = GridSearchCV(tree.DecisionTreeClassifier(), grid_param, cv=8, scoring='balanced_accuracy')\n",
    "tree_cv.fit(X, y)\n",
    "print(tree_cv.best_score_)   #result: 0.6791666666666667\n",
    "print(tree_cv.best_params_)  #result: {'criterion': 'entropy', 'min_samples_split': 4}"
   ]
  },
  {
   "cell_type": "code",
   "execution_count": 16,
   "metadata": {},
   "outputs": [
    {
     "name": "stdout",
     "output_type": "stream",
     "text": [
      "[0.6354166666666667, 0.64375, 0.6104166666666666, 0.6625, 0.5895833333333333, 0.6208333333333333, 0.6333333333333333, 0.6354166666666667, 0.64375, 0.6666666666666666, 0.625, 0.65, 0.6375, 0.61875, 0.625, 0.6166666666666667, 0.6291666666666667, 0.6520833333333333, 0.64375, 0.6270833333333333, 0.6, 0.6604166666666667, 0.64375, 0.6479166666666667, 0.6, 0.6416666666666666, 0.6375, 0.5979166666666667, 0.6333333333333333, 0.6124999999999999, 0.6312500000000001, 0.6083333333333334, 0.6708333333333334, 0.6375, 0.6416666666666666, 0.6291666666666667, 0.6166666666666666, 0.6166666666666667, 0.6604166666666667, 0.6166666666666667, 0.66875, 0.63125, 0.6520833333333333, 0.63125, 0.61875, 0.65625, 0.65625, 0.6395833333333333, 0.6354166666666667, 0.6520833333333333]\n",
      "0.6342500000000001\n"
     ]
    }
   ],
   "source": [
    "# Dati per grafico Single Tree - tentativo 1\n",
    "\n",
    "TREE = []\n",
    "\n",
    "for i in range(50):\n",
    "    # shuffling the dataframe\n",
    "    df = df.sample(frac=1).reset_index()\n",
    "    df = df.iloc[:, 1:17]   # needed to eliminate the old indexes column\n",
    "    # separating y from x and eliminating specimen number variable\n",
    "    X = df.iloc[:, 2:16]\n",
    "    y = df.iloc[:, 0]\n",
    "    clf_T1 = cross_validate(DecisionTreeClassifier(criterion = \"entropy\", min_samples_split = 4), X, y, cv=8, scoring = \"balanced_accuracy\")\n",
    "    scores_tree = np.mean(clf_T1[\"test_score\"])\n",
    "    TREE.append(scores_tree)\n",
    "    \n",
    "print(TREE)\n",
    "print(np.mean(TREE))"
   ]
  },
  {
   "cell_type": "code",
   "execution_count": 9,
   "metadata": {},
   "outputs": [
    {
     "data": {
      "text/plain": [
       "{'fit_time': array([0.01585007, 0.01556826, 0.01397896, 0.01200628, 0.01296735,\n",
       "        0.01301241, 0.01399326, 0.01269484]),\n",
       " 'score_time': array([0.00275064, 0.00553274, 0.00470161, 0.00217628, 0.00257826,\n",
       "        0.00308418, 0.00548244, 0.00380087]),\n",
       " 'test_score': array([0.55      , 0.63333333, 0.68333333, 0.78333333, 0.68333333,\n",
       "        0.56666667, 0.66666667, 0.6       ])}"
      ]
     },
     "execution_count": 9,
     "metadata": {},
     "output_type": "execute_result"
    },
    {
     "name": "stdout",
     "output_type": "stream",
     "text": [
      "Process finished in 0.16178512573242188 seconds\n"
     ]
    }
   ],
   "source": [
    "start_time_tree = time.time()\n",
    "cross_validate(DecisionTreeClassifier(criterion = \"entropy\", min_samples_split = 4), X, y, cv=8, scoring = \"balanced_accuracy\")\n",
    "stop_time_tree = time.time()\n",
    "print(\"Process finished in %s seconds\" % (stop_time_tree - start_time_tree))"
   ]
  },
  {
   "attachments": {},
   "cell_type": "markdown",
   "metadata": {},
   "source": [
    "### Random forest"
   ]
  },
  {
   "cell_type": "code",
   "execution_count": 32,
   "metadata": {},
   "outputs": [
    {
     "data": {
      "text/html": [
       "<style>#sk-container-id-6 {color: black;background-color: white;}#sk-container-id-6 pre{padding: 0;}#sk-container-id-6 div.sk-toggleable {background-color: white;}#sk-container-id-6 label.sk-toggleable__label {cursor: pointer;display: block;width: 100%;margin-bottom: 0;padding: 0.3em;box-sizing: border-box;text-align: center;}#sk-container-id-6 label.sk-toggleable__label-arrow:before {content: \"▸\";float: left;margin-right: 0.25em;color: #696969;}#sk-container-id-6 label.sk-toggleable__label-arrow:hover:before {color: black;}#sk-container-id-6 div.sk-estimator:hover label.sk-toggleable__label-arrow:before {color: black;}#sk-container-id-6 div.sk-toggleable__content {max-height: 0;max-width: 0;overflow: hidden;text-align: left;background-color: #f0f8ff;}#sk-container-id-6 div.sk-toggleable__content pre {margin: 0.2em;color: black;border-radius: 0.25em;background-color: #f0f8ff;}#sk-container-id-6 input.sk-toggleable__control:checked~div.sk-toggleable__content {max-height: 200px;max-width: 100%;overflow: auto;}#sk-container-id-6 input.sk-toggleable__control:checked~label.sk-toggleable__label-arrow:before {content: \"▾\";}#sk-container-id-6 div.sk-estimator input.sk-toggleable__control:checked~label.sk-toggleable__label {background-color: #d4ebff;}#sk-container-id-6 div.sk-label input.sk-toggleable__control:checked~label.sk-toggleable__label {background-color: #d4ebff;}#sk-container-id-6 input.sk-hidden--visually {border: 0;clip: rect(1px 1px 1px 1px);clip: rect(1px, 1px, 1px, 1px);height: 1px;margin: -1px;overflow: hidden;padding: 0;position: absolute;width: 1px;}#sk-container-id-6 div.sk-estimator {font-family: monospace;background-color: #f0f8ff;border: 1px dotted black;border-radius: 0.25em;box-sizing: border-box;margin-bottom: 0.5em;}#sk-container-id-6 div.sk-estimator:hover {background-color: #d4ebff;}#sk-container-id-6 div.sk-parallel-item::after {content: \"\";width: 100%;border-bottom: 1px solid gray;flex-grow: 1;}#sk-container-id-6 div.sk-label:hover label.sk-toggleable__label {background-color: #d4ebff;}#sk-container-id-6 div.sk-serial::before {content: \"\";position: absolute;border-left: 1px solid gray;box-sizing: border-box;top: 0;bottom: 0;left: 50%;z-index: 0;}#sk-container-id-6 div.sk-serial {display: flex;flex-direction: column;align-items: center;background-color: white;padding-right: 0.2em;padding-left: 0.2em;position: relative;}#sk-container-id-6 div.sk-item {position: relative;z-index: 1;}#sk-container-id-6 div.sk-parallel {display: flex;align-items: stretch;justify-content: center;background-color: white;position: relative;}#sk-container-id-6 div.sk-item::before, #sk-container-id-6 div.sk-parallel-item::before {content: \"\";position: absolute;border-left: 1px solid gray;box-sizing: border-box;top: 0;bottom: 0;left: 50%;z-index: -1;}#sk-container-id-6 div.sk-parallel-item {display: flex;flex-direction: column;z-index: 1;position: relative;background-color: white;}#sk-container-id-6 div.sk-parallel-item:first-child::after {align-self: flex-end;width: 50%;}#sk-container-id-6 div.sk-parallel-item:last-child::after {align-self: flex-start;width: 50%;}#sk-container-id-6 div.sk-parallel-item:only-child::after {width: 0;}#sk-container-id-6 div.sk-dashed-wrapped {border: 1px dashed gray;margin: 0 0.4em 0.5em 0.4em;box-sizing: border-box;padding-bottom: 0.4em;background-color: white;}#sk-container-id-6 div.sk-label label {font-family: monospace;font-weight: bold;display: inline-block;line-height: 1.2em;}#sk-container-id-6 div.sk-label-container {text-align: center;}#sk-container-id-6 div.sk-container {/* jupyter's `normalize.less` sets `[hidden] { display: none; }` but bootstrap.min.css set `[hidden] { display: none !important; }` so we also need the `!important` here to be able to override the default hidden behavior on the sphinx rendered scikit-learn.org. See: https://github.com/scikit-learn/scikit-learn/issues/21755 */display: inline-block !important;position: relative;}#sk-container-id-6 div.sk-text-repr-fallback {display: none;}</style><div id=\"sk-container-id-6\" class=\"sk-top-container\"><div class=\"sk-text-repr-fallback\"><pre>GridSearchCV(cv=8, estimator=RandomForestClassifier(), n_jobs=5,\n",
       "             param_grid={&#x27;criterion&#x27;: (&#x27;gini&#x27;, &#x27;entropy&#x27;),\n",
       "                         &#x27;max_features&#x27;: (&#x27;sqrt&#x27;, 5),\n",
       "                         &#x27;n_estimators&#x27;: (100, 200, 500, 700, 900)},\n",
       "             scoring=&#x27;balanced_accuracy&#x27;)</pre><b>In a Jupyter environment, please rerun this cell to show the HTML representation or trust the notebook. <br />On GitHub, the HTML representation is unable to render, please try loading this page with nbviewer.org.</b></div><div class=\"sk-container\" hidden><div class=\"sk-item sk-dashed-wrapped\"><div class=\"sk-label-container\"><div class=\"sk-label sk-toggleable\"><input class=\"sk-toggleable__control sk-hidden--visually\" id=\"sk-estimator-id-17\" type=\"checkbox\" ><label for=\"sk-estimator-id-17\" class=\"sk-toggleable__label sk-toggleable__label-arrow\">GridSearchCV</label><div class=\"sk-toggleable__content\"><pre>GridSearchCV(cv=8, estimator=RandomForestClassifier(), n_jobs=5,\n",
       "             param_grid={&#x27;criterion&#x27;: (&#x27;gini&#x27;, &#x27;entropy&#x27;),\n",
       "                         &#x27;max_features&#x27;: (&#x27;sqrt&#x27;, 5),\n",
       "                         &#x27;n_estimators&#x27;: (100, 200, 500, 700, 900)},\n",
       "             scoring=&#x27;balanced_accuracy&#x27;)</pre></div></div></div><div class=\"sk-parallel\"><div class=\"sk-parallel-item\"><div class=\"sk-item\"><div class=\"sk-label-container\"><div class=\"sk-label sk-toggleable\"><input class=\"sk-toggleable__control sk-hidden--visually\" id=\"sk-estimator-id-18\" type=\"checkbox\" ><label for=\"sk-estimator-id-18\" class=\"sk-toggleable__label sk-toggleable__label-arrow\">estimator: RandomForestClassifier</label><div class=\"sk-toggleable__content\"><pre>RandomForestClassifier()</pre></div></div></div><div class=\"sk-serial\"><div class=\"sk-item\"><div class=\"sk-estimator sk-toggleable\"><input class=\"sk-toggleable__control sk-hidden--visually\" id=\"sk-estimator-id-19\" type=\"checkbox\" ><label for=\"sk-estimator-id-19\" class=\"sk-toggleable__label sk-toggleable__label-arrow\">RandomForestClassifier</label><div class=\"sk-toggleable__content\"><pre>RandomForestClassifier()</pre></div></div></div></div></div></div></div></div></div></div>"
      ],
      "text/plain": [
       "GridSearchCV(cv=8, estimator=RandomForestClassifier(), n_jobs=5,\n",
       "             param_grid={'criterion': ('gini', 'entropy'),\n",
       "                         'max_features': ('sqrt', 5),\n",
       "                         'n_estimators': (100, 200, 500, 700, 900)},\n",
       "             scoring='balanced_accuracy')"
      ]
     },
     "execution_count": 32,
     "metadata": {},
     "output_type": "execute_result"
    },
    {
     "name": "stdout",
     "output_type": "stream",
     "text": [
      "0.7916666666666667\n",
      "{'criterion': 'gini', 'max_features': 'sqrt', 'n_estimators': 900}\n"
     ]
    }
   ],
   "source": [
    "# NON SERVE RUNNARE\n",
    "# ho considerato i parametri riportati nell'ultima riga\n",
    "\n",
    "# Grid Search - finding best estimators\n",
    "\n",
    "# shuffling the dataframe + separating y from x + eliminating specimen number variable\n",
    "df = df.sample(frac=1).reset_index()\n",
    "df = df.iloc[:, 1:17]   # needed to eliminate the old indexes column\n",
    "X = df.iloc[:, 2:16]\n",
    "y = df.iloc[:, 0]\n",
    "\n",
    "# griglia dei parametri su cui fare la ricerca\n",
    "grid_param = {\"n_estimators\": (100, 200, 500, 700, 900), 'criterion': ('gini', 'entropy'), 'max_features': ('sqrt', 5)}\n",
    "\n",
    "rf_cv = GridSearchCV(RandomForestClassifier(), grid_param, cv=8, scoring='balanced_accuracy', n_jobs=5)\n",
    "rf_cv.fit(X, y)\n",
    "print(rf_cv.best_score_)    #result: 0.8145833333333333\n",
    "print(rf_cv.best_params_)   #result: {'criterion': 'gini', 'max_features': 'sqrt', 'n_estimators': 200}"
   ]
  },
  {
   "cell_type": "code",
   "execution_count": 17,
   "metadata": {},
   "outputs": [
    {
     "name": "stdout",
     "output_type": "stream",
     "text": [
      "[0.78125, 0.7791666666666668, 0.7791666666666667, 0.7687499999999999, 0.7770833333333333, 0.7645833333333334, 0.7729166666666667, 0.7979166666666667, 0.7708333333333333, 0.7833333333333334, 0.7770833333333333, 0.7770833333333333, 0.7708333333333333, 0.775, 0.7833333333333333, 0.7895833333333333, 0.7895833333333333, 0.7875, 0.7791666666666666, 0.775, 0.7708333333333333, 0.78125, 0.7854166666666667, 0.7666666666666666, 0.7666666666666666, 0.7958333333333334, 0.7708333333333334, 0.7833333333333334, 0.7854166666666667, 0.7958333333333334, 0.7604166666666666, 0.7770833333333333, 0.76875, 0.7937500000000001, 0.7729166666666667, 0.7958333333333334, 0.80625, 0.7791666666666666, 0.8020833333333334, 0.7770833333333333, 0.7791666666666667, 0.7833333333333333, 0.7791666666666667, 0.7708333333333333, 0.7416666666666667, 0.7687499999999999, 0.7729166666666667, 0.7895833333333333, 0.7916666666666667, 0.7770833333333333]\n",
      "0.7793749999999998\n"
     ]
    }
   ],
   "source": [
    "# Dati per grafico Random Forest - tentativo 1\n",
    "\n",
    "RAN_FOR = []\n",
    "\n",
    "for i in range(50):\n",
    "    # shuffling the dataframe\n",
    "    df = df.sample(frac=1).reset_index()\n",
    "    df = df.iloc[:, 1:17]   # needed to eliminate the old indexes column\n",
    "    # separating y from x and eliminating specimen number variable\n",
    "    X = df.iloc[:, 2:16]\n",
    "    y = df.iloc[:, 0]\n",
    "    clf_RF1 = cross_validate(RandomForestClassifier(n_estimators = 200, criterion = \"gini\", max_features= \"sqrt\"), X, y, cv=8, scoring = \"balanced_accuracy\", n_jobs = 5)\n",
    "    scores_RF = np.mean(clf_RF1[\"test_score\"])\n",
    "    RAN_FOR.append(scores_RF)\n",
    "print(RAN_FOR)\n",
    "print(np.mean(RAN_FOR))"
   ]
  },
  {
   "cell_type": "code",
   "execution_count": 10,
   "metadata": {},
   "outputs": [
    {
     "data": {
      "text/plain": [
       "{'fit_time': array([1.21093941, 1.67071295, 1.08950043, 1.62792301, 0.91809034,\n",
       "        1.18208861, 0.8542428 , 0.76584053]),\n",
       " 'score_time': array([0.08258677, 0.06666493, 0.11011767, 0.12068748, 0.07132888,\n",
       "        0.03657436, 0.03510737, 0.03513885]),\n",
       " 'test_score': array([0.75      , 0.81666667, 0.81666667, 0.91666667, 0.83333333,\n",
       "        0.8       , 0.78333333, 0.83333333])}"
      ]
     },
     "execution_count": 10,
     "metadata": {},
     "output_type": "execute_result"
    },
    {
     "name": "stdout",
     "output_type": "stream",
     "text": [
      "Process finished in 6.429738998413086 seconds\n"
     ]
    }
   ],
   "source": [
    "#timing\n",
    "\n",
    "start_time_rf = time.time()\n",
    "cross_validate(RandomForestClassifier(n_estimators = 200, criterion = \"gini\", max_features= \"sqrt\"), X, y, cv=8, scoring = \"balanced_accuracy\", n_jobs = 5)\n",
    "stop_time_rf = time.time()\n",
    "print(\"Process finished in %s seconds\" % (stop_time_rf - start_time_rf))"
   ]
  },
  {
   "cell_type": "code",
   "execution_count": 35,
   "metadata": {},
   "outputs": [],
   "source": [
    "#dati per grafico Random Forest - tentativo 2\n",
    "\n",
    "#RF=[]\n",
    "\n",
    "#for i in range(1, 6):\n",
    "    #clf_RF2 = RandomForestClassifier(n_estimators = 700, criterion = \"entropy\", max_features = 5)\n",
    "    #clf_RF2.fit(X_train,y_train)\n",
    "    #predictions = clf_RF2.predict(X_test)\n",
    "    #RF.append(accuracy_score(y_test, predictions))\n",
    "\n",
    "#print(RF)"
   ]
  },
  {
   "cell_type": "markdown",
   "metadata": {},
   "source": [
    "### SVM"
   ]
  },
  {
   "cell_type": "code",
   "execution_count": 36,
   "metadata": {},
   "outputs": [
    {
     "data": {
      "text/html": [
       "<style>#sk-container-id-7 {color: black;background-color: white;}#sk-container-id-7 pre{padding: 0;}#sk-container-id-7 div.sk-toggleable {background-color: white;}#sk-container-id-7 label.sk-toggleable__label {cursor: pointer;display: block;width: 100%;margin-bottom: 0;padding: 0.3em;box-sizing: border-box;text-align: center;}#sk-container-id-7 label.sk-toggleable__label-arrow:before {content: \"▸\";float: left;margin-right: 0.25em;color: #696969;}#sk-container-id-7 label.sk-toggleable__label-arrow:hover:before {color: black;}#sk-container-id-7 div.sk-estimator:hover label.sk-toggleable__label-arrow:before {color: black;}#sk-container-id-7 div.sk-toggleable__content {max-height: 0;max-width: 0;overflow: hidden;text-align: left;background-color: #f0f8ff;}#sk-container-id-7 div.sk-toggleable__content pre {margin: 0.2em;color: black;border-radius: 0.25em;background-color: #f0f8ff;}#sk-container-id-7 input.sk-toggleable__control:checked~div.sk-toggleable__content {max-height: 200px;max-width: 100%;overflow: auto;}#sk-container-id-7 input.sk-toggleable__control:checked~label.sk-toggleable__label-arrow:before {content: \"▾\";}#sk-container-id-7 div.sk-estimator input.sk-toggleable__control:checked~label.sk-toggleable__label {background-color: #d4ebff;}#sk-container-id-7 div.sk-label input.sk-toggleable__control:checked~label.sk-toggleable__label {background-color: #d4ebff;}#sk-container-id-7 input.sk-hidden--visually {border: 0;clip: rect(1px 1px 1px 1px);clip: rect(1px, 1px, 1px, 1px);height: 1px;margin: -1px;overflow: hidden;padding: 0;position: absolute;width: 1px;}#sk-container-id-7 div.sk-estimator {font-family: monospace;background-color: #f0f8ff;border: 1px dotted black;border-radius: 0.25em;box-sizing: border-box;margin-bottom: 0.5em;}#sk-container-id-7 div.sk-estimator:hover {background-color: #d4ebff;}#sk-container-id-7 div.sk-parallel-item::after {content: \"\";width: 100%;border-bottom: 1px solid gray;flex-grow: 1;}#sk-container-id-7 div.sk-label:hover label.sk-toggleable__label {background-color: #d4ebff;}#sk-container-id-7 div.sk-serial::before {content: \"\";position: absolute;border-left: 1px solid gray;box-sizing: border-box;top: 0;bottom: 0;left: 50%;z-index: 0;}#sk-container-id-7 div.sk-serial {display: flex;flex-direction: column;align-items: center;background-color: white;padding-right: 0.2em;padding-left: 0.2em;position: relative;}#sk-container-id-7 div.sk-item {position: relative;z-index: 1;}#sk-container-id-7 div.sk-parallel {display: flex;align-items: stretch;justify-content: center;background-color: white;position: relative;}#sk-container-id-7 div.sk-item::before, #sk-container-id-7 div.sk-parallel-item::before {content: \"\";position: absolute;border-left: 1px solid gray;box-sizing: border-box;top: 0;bottom: 0;left: 50%;z-index: -1;}#sk-container-id-7 div.sk-parallel-item {display: flex;flex-direction: column;z-index: 1;position: relative;background-color: white;}#sk-container-id-7 div.sk-parallel-item:first-child::after {align-self: flex-end;width: 50%;}#sk-container-id-7 div.sk-parallel-item:last-child::after {align-self: flex-start;width: 50%;}#sk-container-id-7 div.sk-parallel-item:only-child::after {width: 0;}#sk-container-id-7 div.sk-dashed-wrapped {border: 1px dashed gray;margin: 0 0.4em 0.5em 0.4em;box-sizing: border-box;padding-bottom: 0.4em;background-color: white;}#sk-container-id-7 div.sk-label label {font-family: monospace;font-weight: bold;display: inline-block;line-height: 1.2em;}#sk-container-id-7 div.sk-label-container {text-align: center;}#sk-container-id-7 div.sk-container {/* jupyter's `normalize.less` sets `[hidden] { display: none; }` but bootstrap.min.css set `[hidden] { display: none !important; }` so we also need the `!important` here to be able to override the default hidden behavior on the sphinx rendered scikit-learn.org. See: https://github.com/scikit-learn/scikit-learn/issues/21755 */display: inline-block !important;position: relative;}#sk-container-id-7 div.sk-text-repr-fallback {display: none;}</style><div id=\"sk-container-id-7\" class=\"sk-top-container\"><div class=\"sk-text-repr-fallback\"><pre>GridSearchCV(cv=8,\n",
       "             estimator=Pipeline(steps=[(&#x27;scaling&#x27;, StandardScaler()),\n",
       "                                       (&#x27;SVM&#x27;,\n",
       "                                        SVC(decision_function_shape=&#x27;ovo&#x27;))]),\n",
       "             n_jobs=5,\n",
       "             param_grid={&#x27;SVM__C&#x27;: array([1.e-10, 1.e-09, 1.e-08, 1.e-07, 1.e-06, 1.e-05, 1.e-04, 1.e-03,\n",
       "       1.e-02, 1.e-01, 1.e+00, 1.e+01, 1.e+02, 1.e+03, 1.e+04, 1.e+05,\n",
       "       1.e+06, 1.e+07, 1.e+08, 1.e+09, 1.e+10, 1.e+11]),\n",
       "                         &#x27;SVM__decision_function_shape&#x27;: (&#x27;ovo&#x27;, &#x27;ovr&#x27;),\n",
       "                         &#x27;SVM__degree&#x27;: array([2, 3, 4]),\n",
       "                         &#x27;SVM__gamma&#x27;: array([1.e-09, 1.e-08, 1.e-07, 1.e-06, 1.e-05, 1.e-04, 1.e-03, 1.e-02,\n",
       "       1.e-01, 1.e+00, 1.e+01, 1.e+02, 1.e+03]),\n",
       "                         &#x27;SVM__kernel&#x27;: (&#x27;linear&#x27;, &#x27;poly&#x27;, &#x27;rbf&#x27;, &#x27;sigmoid&#x27;)},\n",
       "             scoring=&#x27;balanced_accuracy&#x27;)</pre><b>In a Jupyter environment, please rerun this cell to show the HTML representation or trust the notebook. <br />On GitHub, the HTML representation is unable to render, please try loading this page with nbviewer.org.</b></div><div class=\"sk-container\" hidden><div class=\"sk-item sk-dashed-wrapped\"><div class=\"sk-label-container\"><div class=\"sk-label sk-toggleable\"><input class=\"sk-toggleable__control sk-hidden--visually\" id=\"sk-estimator-id-20\" type=\"checkbox\" ><label for=\"sk-estimator-id-20\" class=\"sk-toggleable__label sk-toggleable__label-arrow\">GridSearchCV</label><div class=\"sk-toggleable__content\"><pre>GridSearchCV(cv=8,\n",
       "             estimator=Pipeline(steps=[(&#x27;scaling&#x27;, StandardScaler()),\n",
       "                                       (&#x27;SVM&#x27;,\n",
       "                                        SVC(decision_function_shape=&#x27;ovo&#x27;))]),\n",
       "             n_jobs=5,\n",
       "             param_grid={&#x27;SVM__C&#x27;: array([1.e-10, 1.e-09, 1.e-08, 1.e-07, 1.e-06, 1.e-05, 1.e-04, 1.e-03,\n",
       "       1.e-02, 1.e-01, 1.e+00, 1.e+01, 1.e+02, 1.e+03, 1.e+04, 1.e+05,\n",
       "       1.e+06, 1.e+07, 1.e+08, 1.e+09, 1.e+10, 1.e+11]),\n",
       "                         &#x27;SVM__decision_function_shape&#x27;: (&#x27;ovo&#x27;, &#x27;ovr&#x27;),\n",
       "                         &#x27;SVM__degree&#x27;: array([2, 3, 4]),\n",
       "                         &#x27;SVM__gamma&#x27;: array([1.e-09, 1.e-08, 1.e-07, 1.e-06, 1.e-05, 1.e-04, 1.e-03, 1.e-02,\n",
       "       1.e-01, 1.e+00, 1.e+01, 1.e+02, 1.e+03]),\n",
       "                         &#x27;SVM__kernel&#x27;: (&#x27;linear&#x27;, &#x27;poly&#x27;, &#x27;rbf&#x27;, &#x27;sigmoid&#x27;)},\n",
       "             scoring=&#x27;balanced_accuracy&#x27;)</pre></div></div></div><div class=\"sk-parallel\"><div class=\"sk-parallel-item\"><div class=\"sk-item\"><div class=\"sk-label-container\"><div class=\"sk-label sk-toggleable\"><input class=\"sk-toggleable__control sk-hidden--visually\" id=\"sk-estimator-id-21\" type=\"checkbox\" ><label for=\"sk-estimator-id-21\" class=\"sk-toggleable__label sk-toggleable__label-arrow\">estimator: Pipeline</label><div class=\"sk-toggleable__content\"><pre>Pipeline(steps=[(&#x27;scaling&#x27;, StandardScaler()),\n",
       "                (&#x27;SVM&#x27;, SVC(decision_function_shape=&#x27;ovo&#x27;))])</pre></div></div></div><div class=\"sk-serial\"><div class=\"sk-item\"><div class=\"sk-serial\"><div class=\"sk-item\"><div class=\"sk-estimator sk-toggleable\"><input class=\"sk-toggleable__control sk-hidden--visually\" id=\"sk-estimator-id-22\" type=\"checkbox\" ><label for=\"sk-estimator-id-22\" class=\"sk-toggleable__label sk-toggleable__label-arrow\">StandardScaler</label><div class=\"sk-toggleable__content\"><pre>StandardScaler()</pre></div></div></div><div class=\"sk-item\"><div class=\"sk-estimator sk-toggleable\"><input class=\"sk-toggleable__control sk-hidden--visually\" id=\"sk-estimator-id-23\" type=\"checkbox\" ><label for=\"sk-estimator-id-23\" class=\"sk-toggleable__label sk-toggleable__label-arrow\">SVC</label><div class=\"sk-toggleable__content\"><pre>SVC(decision_function_shape=&#x27;ovo&#x27;)</pre></div></div></div></div></div></div></div></div></div></div></div></div>"
      ],
      "text/plain": [
       "GridSearchCV(cv=8,\n",
       "             estimator=Pipeline(steps=[('scaling', StandardScaler()),\n",
       "                                       ('SVM',\n",
       "                                        SVC(decision_function_shape='ovo'))]),\n",
       "             n_jobs=5,\n",
       "             param_grid={'SVM__C': array([1.e-10, 1.e-09, 1.e-08, 1.e-07, 1.e-06, 1.e-05, 1.e-04, 1.e-03,\n",
       "       1.e-02, 1.e-01, 1.e+00, 1.e+01, 1.e+02, 1.e+03, 1.e+04, 1.e+05,\n",
       "       1.e+06, 1.e+07, 1.e+08, 1.e+09, 1.e+10, 1.e+11]),\n",
       "                         'SVM__decision_function_shape': ('ovo', 'ovr'),\n",
       "                         'SVM__degree': array([2, 3, 4]),\n",
       "                         'SVM__gamma': array([1.e-09, 1.e-08, 1.e-07, 1.e-06, 1.e-05, 1.e-04, 1.e-03, 1.e-02,\n",
       "       1.e-01, 1.e+00, 1.e+01, 1.e+02, 1.e+03]),\n",
       "                         'SVM__kernel': ('linear', 'poly', 'rbf', 'sigmoid')},\n",
       "             scoring='balanced_accuracy')"
      ]
     },
     "execution_count": 36,
     "metadata": {},
     "output_type": "execute_result"
    },
    {
     "name": "stdout",
     "output_type": "stream",
     "text": [
      "0.8104166666666667\n",
      "{'SVM__C': 1000.0, 'SVM__decision_function_shape': 'ovo', 'SVM__degree': 2, 'SVM__gamma': 0.01, 'SVM__kernel': 'rbf'}\n"
     ]
    }
   ],
   "source": [
    "# NON SERVE RUNNARE\n",
    "# ho considerato i parametri riportati nell'ultima riga\n",
    "\n",
    "# Grid Search - finding best estimators\n",
    "\n",
    "# building the pipeline\n",
    "pipe = Pipeline([('scaling', StandardScaler()),\n",
    "                 ('SVM', svm.SVC(decision_function_shape='ovo'))])\n",
    "\n",
    "# building the range of the regularization parameter (C) and of gamm\n",
    "reg_param = np.logspace(-10, 11, 22)\n",
    "gamm = np.logspace(-9, 3, 13)\n",
    "\n",
    "grid_param = {'SVM__C': reg_param,\n",
    "              'SVM__kernel': ('linear', 'poly', 'rbf', 'sigmoid'), \n",
    "              'SVM__degree': np.arange(2, 5),\n",
    "              'SVM__decision_function_shape': ('ovo', 'ovr'),\n",
    "              'SVM__gamma': gamm}\n",
    "\n",
    "# shuffling the dataframe\n",
    "df = df.sample(frac=1).reset_index()\n",
    "df = df.iloc[:, 1:17]   # needed to eliminate the old indexes column\n",
    "# separating y from x and eliminating specimen number variable\n",
    "X = df.iloc[:, 2:16]\n",
    "y = df.iloc[:, 0]\n",
    "\n",
    "svm_cv = GridSearchCV(pipe, grid_param, cv=8, scoring='balanced_accuracy', n_jobs=5)\n",
    "svm_cv.fit(X,y)\n",
    "\n",
    "print(svm_cv.best_score_)  # result: 0.8104166666666666\n",
    "print(svm_cv.best_params_) # result: {'SVM__C': 100000.0, 'SVM__decision_function_shape': 'ovo', 'SVM__degree': 2, 'SVM__gamma': 0.0001, 'SVM__kernel': 'rbf'}"
   ]
  },
  {
   "cell_type": "code",
   "execution_count": 15,
   "metadata": {},
   "outputs": [
    {
     "name": "stdout",
     "output_type": "stream",
     "text": [
      "[0.8041666666666667, 0.7770833333333333, 0.8, 0.7979166666666667, 0.7916666666666667, 0.7916666666666666, 0.8020833333333334, 0.7895833333333333, 0.7854166666666667, 0.7875000000000001, 0.7854166666666667, 0.7770833333333333, 0.7770833333333333, 0.7854166666666667, 0.7958333333333334, 0.8020833333333334, 0.7791666666666667, 0.7916666666666666, 0.7916666666666666, 0.8020833333333333, 0.8, 0.8020833333333334, 0.7895833333333333, 0.7875000000000001, 0.78125, 0.775, 0.78125, 0.7791666666666667, 0.8020833333333334, 0.8083333333333333, 0.7791666666666667, 0.7708333333333333, 0.7770833333333333, 0.7916666666666667, 0.7645833333333333, 0.8166666666666667, 0.7833333333333333, 0.7791666666666667, 0.8, 0.8, 0.7833333333333333, 0.8020833333333333, 0.7979166666666666, 0.78125, 0.81875, 0.8, 0.79375, 0.8, 0.79375, 0.7916666666666667]\n",
      "0.7909166666666665\n"
     ]
    }
   ],
   "source": [
    "# Dati per grafico SVM\n",
    "\n",
    "SVM = []\n",
    "\n",
    "pipe = Pipeline([('scaling', StandardScaler()),\n",
    "                 ('SVM', svm.SVC( C= 100000.0, decision_function_shape = \"ovo\", degree = 2, gamma = 0.0001, kernel = \"rbf\"))])\n",
    "\n",
    "for i in range(50):\n",
    "    # shuffling the dataframe\n",
    "    df = df.sample(frac=1).reset_index()\n",
    "    df = df.iloc[:, 1:17]   # needed to eliminate the old indexes column\n",
    "    # separating y from x and eliminating specimen number variable\n",
    "    X = df.iloc[:, 2:16]\n",
    "    y = df.iloc[:, 0]\n",
    "    clf_SVM1 = cross_validate(pipe, X, y, cv=8, scoring = \"balanced_accuracy\")\n",
    "    scores_SVM1 = np.mean(clf_SVM1[\"test_score\"])\n",
    "    SVM.append(scores_SVM1)\n",
    "\n",
    "print(SVM)\n",
    "print(np.mean(SVM))"
   ]
  },
  {
   "cell_type": "code",
   "execution_count": 38,
   "metadata": {},
   "outputs": [
    {
     "data": {
      "text/plain": [
       "{'fit_time': array([0.01367044, 0.01218104, 0.0116117 , 0.01069236, 0.01075816,\n",
       "        0.01034951, 0.00959659, 0.00964046]),\n",
       " 'score_time': array([0.00336099, 0.00292993, 0.00268698, 0.00254941, 0.00244546,\n",
       "        0.00235415, 0.00228286, 0.00228953]),\n",
       " 'test_score': array([0.65      , 0.85      , 0.73333333, 0.76666667, 0.88333333,\n",
       "        0.9       , 0.78333333, 0.83333333])}"
      ]
     },
     "execution_count": 38,
     "metadata": {},
     "output_type": "execute_result"
    },
    {
     "name": "stdout",
     "output_type": "stream",
     "text": [
      "Process finished in 0.11755013465881348 seconds\n"
     ]
    }
   ],
   "source": [
    "#timing\n",
    "\n",
    "start_time_svm = time.time()\n",
    "cross_validate(pipe, X, y, cv=8, scoring = \"balanced_accuracy\")\n",
    "stop_time_svm = time.time()\n",
    "print(\"Process finished in %s seconds\" % (stop_time_svm - start_time_svm))"
   ]
  },
  {
   "attachments": {},
   "cell_type": "markdown",
   "metadata": {},
   "source": [
    "### Naive bayes"
   ]
  },
  {
   "cell_type": "code",
   "execution_count": 39,
   "metadata": {},
   "outputs": [],
   "source": [
    "# No grid search since we don't have any hyper-parameters to choose\n",
    "\n",
    "# shuffling the dataframe\n",
    "df = df.sample(frac=1).reset_index()\n",
    "df = df.iloc[:, 1:17]   # needed to eliminate the old indexes column\n",
    "# separating y from x and eliminating specimen number variable\n",
    "X = df.iloc[:, 2:16]\n",
    "y = df.iloc[:, 0]"
   ]
  },
  {
   "cell_type": "code",
   "execution_count": 14,
   "metadata": {},
   "outputs": [
    {
     "name": "stdout",
     "output_type": "stream",
     "text": [
      "[0.7416666666666667, 0.74375, 0.7229166666666667, 0.73125, 0.7437499999999999, 0.7333333333333334, 0.7520833333333333, 0.7395833333333334, 0.7333333333333334, 0.73125, 0.7375, 0.7416666666666667, 0.7333333333333334, 0.7333333333333334, 0.73125, 0.7395833333333334, 0.7375, 0.7229166666666667, 0.7583333333333333, 0.73125, 0.74375, 0.7229166666666667, 0.7229166666666667, 0.7395833333333333, 0.7395833333333333, 0.71875, 0.7229166666666667, 0.7437499999999999, 0.7312500000000001, 0.74375, 0.7270833333333333, 0.71875, 0.7291666666666666, 0.71875, 0.7479166666666666, 0.7416666666666667, 0.71875, 0.7291666666666666, 0.7270833333333333, 0.7395833333333333, 0.7125, 0.7625, 0.73125, 0.725, 0.7375, 0.7458333333333333, 0.7416666666666667, 0.75, 0.7208333333333333, 0.725]\n",
      "0.734375\n"
     ]
    }
   ],
   "source": [
    "# Dati per grafico Naive Bayes\n",
    "\n",
    "# k-fold cross validation\n",
    "\n",
    "NB = []\n",
    "\n",
    "for i in range(50):\n",
    "    # shuffling the dataframe\n",
    "    df = df.sample(frac=1).reset_index()\n",
    "    df = df.iloc[:, 1:17]   # needed to eliminate the old indexes column\n",
    "    # separating y from x and eliminating specimen number variable\n",
    "    X = df.iloc[:, 2:16]\n",
    "    y = df.iloc[:, 0]\n",
    "    effect_NB_cv = cross_validate(GaussianNB(), X, y, cv= 8, scoring='balanced_accuracy')\n",
    "    scores_NB1 = np.mean(effect_NB_cv[\"test_score\"])\n",
    "    NB.append(scores_NB1)\n",
    "    \n",
    "print(NB)\n",
    "print(np.mean(NB))"
   ]
  },
  {
   "cell_type": "code",
   "execution_count": 41,
   "metadata": {},
   "outputs": [
    {
     "data": {
      "text/plain": [
       "{'fit_time': array([0.00452304, 0.0035727 , 0.00328541, 0.00500107, 0.00335979,\n",
       "        0.00313497, 0.00309253, 0.00300431]),\n",
       " 'score_time': array([0.00281382, 0.00269294, 0.00272679, 0.00273991, 0.00251007,\n",
       "        0.00241947, 0.0023613 , 0.00228333]),\n",
       " 'test_score': array([0.83333333, 0.7       , 0.73333333, 0.83333333, 0.71666667,\n",
       "        0.75      , 0.75      , 0.66666667])}"
      ]
     },
     "execution_count": 41,
     "metadata": {},
     "output_type": "execute_result"
    },
    {
     "name": "stdout",
     "output_type": "stream",
     "text": [
      "Process finished in 0.05698752403259277 seconds\n"
     ]
    }
   ],
   "source": [
    "#timing\n",
    "\n",
    "start_time_nb = time.time()\n",
    "cross_validate(GaussianNB(), X, y, cv= 8, scoring='balanced_accuracy')\n",
    "stop_time_nb = time.time()\n",
    "print(\"Process finished in %s seconds\" % (stop_time_nb - start_time_nb))\n"
   ]
  },
  {
   "attachments": {},
   "cell_type": "markdown",
   "metadata": {},
   "source": [
    "### KNN"
   ]
  },
  {
   "cell_type": "code",
   "execution_count": 11,
   "metadata": {},
   "outputs": [
    {
     "data": {
      "text/html": [
       "<style>#sk-container-id-5 {color: black;background-color: white;}#sk-container-id-5 pre{padding: 0;}#sk-container-id-5 div.sk-toggleable {background-color: white;}#sk-container-id-5 label.sk-toggleable__label {cursor: pointer;display: block;width: 100%;margin-bottom: 0;padding: 0.3em;box-sizing: border-box;text-align: center;}#sk-container-id-5 label.sk-toggleable__label-arrow:before {content: \"▸\";float: left;margin-right: 0.25em;color: #696969;}#sk-container-id-5 label.sk-toggleable__label-arrow:hover:before {color: black;}#sk-container-id-5 div.sk-estimator:hover label.sk-toggleable__label-arrow:before {color: black;}#sk-container-id-5 div.sk-toggleable__content {max-height: 0;max-width: 0;overflow: hidden;text-align: left;background-color: #f0f8ff;}#sk-container-id-5 div.sk-toggleable__content pre {margin: 0.2em;color: black;border-radius: 0.25em;background-color: #f0f8ff;}#sk-container-id-5 input.sk-toggleable__control:checked~div.sk-toggleable__content {max-height: 200px;max-width: 100%;overflow: auto;}#sk-container-id-5 input.sk-toggleable__control:checked~label.sk-toggleable__label-arrow:before {content: \"▾\";}#sk-container-id-5 div.sk-estimator input.sk-toggleable__control:checked~label.sk-toggleable__label {background-color: #d4ebff;}#sk-container-id-5 div.sk-label input.sk-toggleable__control:checked~label.sk-toggleable__label {background-color: #d4ebff;}#sk-container-id-5 input.sk-hidden--visually {border: 0;clip: rect(1px 1px 1px 1px);clip: rect(1px, 1px, 1px, 1px);height: 1px;margin: -1px;overflow: hidden;padding: 0;position: absolute;width: 1px;}#sk-container-id-5 div.sk-estimator {font-family: monospace;background-color: #f0f8ff;border: 1px dotted black;border-radius: 0.25em;box-sizing: border-box;margin-bottom: 0.5em;}#sk-container-id-5 div.sk-estimator:hover {background-color: #d4ebff;}#sk-container-id-5 div.sk-parallel-item::after {content: \"\";width: 100%;border-bottom: 1px solid gray;flex-grow: 1;}#sk-container-id-5 div.sk-label:hover label.sk-toggleable__label {background-color: #d4ebff;}#sk-container-id-5 div.sk-serial::before {content: \"\";position: absolute;border-left: 1px solid gray;box-sizing: border-box;top: 0;bottom: 0;left: 50%;z-index: 0;}#sk-container-id-5 div.sk-serial {display: flex;flex-direction: column;align-items: center;background-color: white;padding-right: 0.2em;padding-left: 0.2em;position: relative;}#sk-container-id-5 div.sk-item {position: relative;z-index: 1;}#sk-container-id-5 div.sk-parallel {display: flex;align-items: stretch;justify-content: center;background-color: white;position: relative;}#sk-container-id-5 div.sk-item::before, #sk-container-id-5 div.sk-parallel-item::before {content: \"\";position: absolute;border-left: 1px solid gray;box-sizing: border-box;top: 0;bottom: 0;left: 50%;z-index: -1;}#sk-container-id-5 div.sk-parallel-item {display: flex;flex-direction: column;z-index: 1;position: relative;background-color: white;}#sk-container-id-5 div.sk-parallel-item:first-child::after {align-self: flex-end;width: 50%;}#sk-container-id-5 div.sk-parallel-item:last-child::after {align-self: flex-start;width: 50%;}#sk-container-id-5 div.sk-parallel-item:only-child::after {width: 0;}#sk-container-id-5 div.sk-dashed-wrapped {border: 1px dashed gray;margin: 0 0.4em 0.5em 0.4em;box-sizing: border-box;padding-bottom: 0.4em;background-color: white;}#sk-container-id-5 div.sk-label label {font-family: monospace;font-weight: bold;display: inline-block;line-height: 1.2em;}#sk-container-id-5 div.sk-label-container {text-align: center;}#sk-container-id-5 div.sk-container {/* jupyter's `normalize.less` sets `[hidden] { display: none; }` but bootstrap.min.css set `[hidden] { display: none !important; }` so we also need the `!important` here to be able to override the default hidden behavior on the sphinx rendered scikit-learn.org. See: https://github.com/scikit-learn/scikit-learn/issues/21755 */display: inline-block !important;position: relative;}#sk-container-id-5 div.sk-text-repr-fallback {display: none;}</style><div id=\"sk-container-id-5\" class=\"sk-top-container\"><div class=\"sk-text-repr-fallback\"><pre>GridSearchCV(cv=8, estimator=KNeighborsClassifier(), n_jobs=5,\n",
       "             param_grid={&#x27;n_neighbors&#x27;: array([  1,   2,   3,   4,   5,   6,   7,   8,   9,  10,  11,  12,  13,\n",
       "        14,  15,  16,  17,  18,  19,  20,  21,  22,  23,  24,  25,  26,\n",
       "        27,  28,  29,  30,  31,  32,  33,  34,  35,  36,  37,  38,  39,\n",
       "        40,  41,  42,  43,  44,  45,  46,  47,  48,  49,  50,  51,  52,\n",
       "        53,  54,  55,  56,  57,  58,  59,  60,  61,  62,  63,  64,  65,\n",
       "        66,  67,  68,  69,  70,  71,  72,  73,  74,  75,  76,  77,  78,\n",
       "        79,  80,  81,  82,  83,  84,  85,  86,  87,  88,  89...\n",
       "       222, 223, 224, 225, 226, 227, 228, 229, 230, 231, 232, 233, 234,\n",
       "       235, 236, 237, 238, 239, 240, 241, 242, 243, 244, 245, 246, 247,\n",
       "       248, 249, 250, 251, 252, 253, 254, 255, 256, 257, 258, 259, 260,\n",
       "       261, 262, 263, 264, 265, 266, 267, 268, 269, 270, 271, 272, 273,\n",
       "       274, 275, 276, 277, 278, 279, 280, 281, 282, 283, 284, 285, 286,\n",
       "       287, 288, 289, 290, 291, 292, 293, 294, 295, 296, 297]),\n",
       "                         &#x27;weights&#x27;: (&#x27;uniform&#x27;, &#x27;distance&#x27;)},\n",
       "             scoring=&#x27;balanced_accuracy&#x27;)</pre><b>In a Jupyter environment, please rerun this cell to show the HTML representation or trust the notebook. <br />On GitHub, the HTML representation is unable to render, please try loading this page with nbviewer.org.</b></div><div class=\"sk-container\" hidden><div class=\"sk-item sk-dashed-wrapped\"><div class=\"sk-label-container\"><div class=\"sk-label sk-toggleable\"><input class=\"sk-toggleable__control sk-hidden--visually\" id=\"sk-estimator-id-13\" type=\"checkbox\" ><label for=\"sk-estimator-id-13\" class=\"sk-toggleable__label sk-toggleable__label-arrow\">GridSearchCV</label><div class=\"sk-toggleable__content\"><pre>GridSearchCV(cv=8, estimator=KNeighborsClassifier(), n_jobs=5,\n",
       "             param_grid={&#x27;n_neighbors&#x27;: array([  1,   2,   3,   4,   5,   6,   7,   8,   9,  10,  11,  12,  13,\n",
       "        14,  15,  16,  17,  18,  19,  20,  21,  22,  23,  24,  25,  26,\n",
       "        27,  28,  29,  30,  31,  32,  33,  34,  35,  36,  37,  38,  39,\n",
       "        40,  41,  42,  43,  44,  45,  46,  47,  48,  49,  50,  51,  52,\n",
       "        53,  54,  55,  56,  57,  58,  59,  60,  61,  62,  63,  64,  65,\n",
       "        66,  67,  68,  69,  70,  71,  72,  73,  74,  75,  76,  77,  78,\n",
       "        79,  80,  81,  82,  83,  84,  85,  86,  87,  88,  89...\n",
       "       222, 223, 224, 225, 226, 227, 228, 229, 230, 231, 232, 233, 234,\n",
       "       235, 236, 237, 238, 239, 240, 241, 242, 243, 244, 245, 246, 247,\n",
       "       248, 249, 250, 251, 252, 253, 254, 255, 256, 257, 258, 259, 260,\n",
       "       261, 262, 263, 264, 265, 266, 267, 268, 269, 270, 271, 272, 273,\n",
       "       274, 275, 276, 277, 278, 279, 280, 281, 282, 283, 284, 285, 286,\n",
       "       287, 288, 289, 290, 291, 292, 293, 294, 295, 296, 297]),\n",
       "                         &#x27;weights&#x27;: (&#x27;uniform&#x27;, &#x27;distance&#x27;)},\n",
       "             scoring=&#x27;balanced_accuracy&#x27;)</pre></div></div></div><div class=\"sk-parallel\"><div class=\"sk-parallel-item\"><div class=\"sk-item\"><div class=\"sk-label-container\"><div class=\"sk-label sk-toggleable\"><input class=\"sk-toggleable__control sk-hidden--visually\" id=\"sk-estimator-id-14\" type=\"checkbox\" ><label for=\"sk-estimator-id-14\" class=\"sk-toggleable__label sk-toggleable__label-arrow\">estimator: KNeighborsClassifier</label><div class=\"sk-toggleable__content\"><pre>KNeighborsClassifier()</pre></div></div></div><div class=\"sk-serial\"><div class=\"sk-item\"><div class=\"sk-estimator sk-toggleable\"><input class=\"sk-toggleable__control sk-hidden--visually\" id=\"sk-estimator-id-15\" type=\"checkbox\" ><label for=\"sk-estimator-id-15\" class=\"sk-toggleable__label sk-toggleable__label-arrow\">KNeighborsClassifier</label><div class=\"sk-toggleable__content\"><pre>KNeighborsClassifier()</pre></div></div></div></div></div></div></div></div></div></div>"
      ],
      "text/plain": [
       "GridSearchCV(cv=8, estimator=KNeighborsClassifier(), n_jobs=5,\n",
       "             param_grid={'n_neighbors': array([  1,   2,   3,   4,   5,   6,   7,   8,   9,  10,  11,  12,  13,\n",
       "        14,  15,  16,  17,  18,  19,  20,  21,  22,  23,  24,  25,  26,\n",
       "        27,  28,  29,  30,  31,  32,  33,  34,  35,  36,  37,  38,  39,\n",
       "        40,  41,  42,  43,  44,  45,  46,  47,  48,  49,  50,  51,  52,\n",
       "        53,  54,  55,  56,  57,  58,  59,  60,  61,  62,  63,  64,  65,\n",
       "        66,  67,  68,  69,  70,  71,  72,  73,  74,  75,  76,  77,  78,\n",
       "        79,  80,  81,  82,  83,  84,  85,  86,  87,  88,  89...\n",
       "       222, 223, 224, 225, 226, 227, 228, 229, 230, 231, 232, 233, 234,\n",
       "       235, 236, 237, 238, 239, 240, 241, 242, 243, 244, 245, 246, 247,\n",
       "       248, 249, 250, 251, 252, 253, 254, 255, 256, 257, 258, 259, 260,\n",
       "       261, 262, 263, 264, 265, 266, 267, 268, 269, 270, 271, 272, 273,\n",
       "       274, 275, 276, 277, 278, 279, 280, 281, 282, 283, 284, 285, 286,\n",
       "       287, 288, 289, 290, 291, 292, 293, 294, 295, 296, 297]),\n",
       "                         'weights': ('uniform', 'distance')},\n",
       "             scoring='balanced_accuracy')"
      ]
     },
     "execution_count": 11,
     "metadata": {},
     "output_type": "execute_result"
    },
    {
     "name": "stdout",
     "output_type": "stream",
     "text": [
      "0.6270833333333333\n",
      "{'n_neighbors': 4, 'weights': 'distance'}\n"
     ]
    }
   ],
   "source": [
    "# NON SERVE RUNNARE\n",
    "# ho considerato i parametri riportati nell'ultima riga\n",
    "\n",
    "# Grid Search - finding best estimators\n",
    "\n",
    "# shuffling the dataframe\n",
    "df = df.sample(frac=1).reset_index()\n",
    "df = df.iloc[:, 1:17]   # needed to eliminate the old indexes column\n",
    "# separating y from x and eliminating specimen number variable\n",
    "X = df.iloc[:, 2:16]\n",
    "y = df.iloc[:, 0]\n",
    "\n",
    "# griglia dei parametri su cui fare la ricerca\n",
    "grid_param_cv = {'n_neighbors': np.arange(1, 340-340//8), 'weights': ('uniform', 'distance')}\n",
    "\n",
    "knn_cv = GridSearchCV(KNeighborsClassifier(), grid_param_cv, cv= 8, scoring='balanced_accuracy', return_train_score=False, verbose=0, n_jobs= 5)\n",
    "knn_cv.fit(X, y)\n",
    "print(knn_cv.best_score_)  # result: 0.6354166666666666\n",
    "print(knn_cv.best_params_) # result: {'n_neighbors': 5, 'weights': 'distance'}"
   ]
  },
  {
   "cell_type": "code",
   "execution_count": 13,
   "metadata": {},
   "outputs": [
    {
     "name": "stdout",
     "output_type": "stream",
     "text": [
      "[0.60625, 0.6291666666666667, 0.6083333333333334, 0.6104166666666667, 0.60625, 0.60625, 0.6166666666666667, 0.6229166666666667, 0.6166666666666667, 0.6145833333333334, 0.6229166666666667, 0.6354166666666667, 0.6291666666666667, 0.6270833333333333, 0.6187499999999999, 0.6229166666666667, 0.6020833333333333, 0.6166666666666667, 0.6166666666666667, 0.5958333333333333, 0.6145833333333334, 0.6104166666666666, 0.6145833333333333, 0.6020833333333333, 0.6208333333333333, 0.6270833333333334, 0.64375, 0.6124999999999999, 0.61875, 0.6354166666666666, 0.60625, 0.625, 0.6104166666666666, 0.6104166666666667, 0.6229166666666667, 0.6020833333333333, 0.6208333333333333, 0.61875, 0.61875, 0.625, 0.6270833333333333, 0.6104166666666667, 0.6145833333333333, 0.625, 0.6208333333333333, 0.6375, 0.6208333333333333, 0.6125, 0.6104166666666666, 0.6208333333333333]\n",
      "0.6177083333333333\n"
     ]
    }
   ],
   "source": [
    "# Dati per grafico KNN\n",
    "\n",
    "KNN = []\n",
    "\n",
    "for i in range(50):\n",
    "    # shuffling the dataframe\n",
    "    df = df.sample(frac=1).reset_index()\n",
    "    df = df.iloc[:, 1:17]   # needed to eliminate the old indexes column\n",
    "    # separating y from x and eliminating specimen number variable\n",
    "    X = df.iloc[:, 2:16]\n",
    "    y = df.iloc[:, 0]\n",
    "    clf_KNN1 = cross_validate(KNeighborsClassifier( n_neighbors = 5, weights = \"distance\"), X, y, cv=8, scoring = \"balanced_accuracy\", n_jobs = 5)\n",
    "    scores_KNN1 = np.mean(clf_KNN1[\"test_score\"])\n",
    "    KNN.append(scores_KNN1)\n",
    "print(KNN)\n",
    "print(np.mean(KNN))"
   ]
  },
  {
   "cell_type": "code",
   "execution_count": 12,
   "metadata": {},
   "outputs": [
    {
     "data": {
      "text/plain": [
       "{'fit_time': array([0.00326347, 0.00773478, 0.01672959, 0.01288557, 0.00584626,\n",
       "        0.01280355, 0.00665808, 0.00484133]),\n",
       " 'score_time': array([0.00634956, 0.01499772, 0.02189994, 0.01526141, 0.02875662,\n",
       "        0.02041435, 0.01680446, 0.00842094]),\n",
       " 'test_score': array([0.75      , 0.58333333, 0.61666667, 0.56666667, 0.6       ,\n",
       "        0.56666667, 0.68333333, 0.63333333])}"
      ]
     },
     "execution_count": 12,
     "metadata": {},
     "output_type": "execute_result"
    },
    {
     "name": "stdout",
     "output_type": "stream",
     "text": [
      "Process finished in 0.09707236289978027 seconds\n"
     ]
    }
   ],
   "source": [
    "#timing\n",
    "\n",
    "start_time_knn = time.time()\n",
    "cross_validate(KNeighborsClassifier( n_neighbors = 5, weights = \"distance\"), X, y, cv=8, scoring = \"balanced_accuracy\", n_jobs = 5)\n",
    "stop_time_knn = time.time()\n",
    "print(\"Process finished in %s seconds\" % (stop_time_knn - start_time_knn))\n"
   ]
  },
  {
   "attachments": {},
   "cell_type": "markdown",
   "metadata": {},
   "source": [
    "## Graphs"
   ]
  },
  {
   "cell_type": "code",
   "execution_count": 48,
   "metadata": {},
   "outputs": [
    {
     "data": {
      "text/plain": [
       "Text(0.5, 1.0, 'Weighted accuracy')"
      ]
     },
     "execution_count": 48,
     "metadata": {},
     "output_type": "execute_result"
    },
    {
     "data": {
      "text/plain": [
       "[Text(1, 0, 'Tree'),\n",
       " Text(2, 0, 'Random Forest'),\n",
       " Text(3, 0, 'SVM'),\n",
       " Text(4, 0, 'Naive Bayes'),\n",
       " Text(5, 0, 'KNN')]"
      ]
     },
     "execution_count": 48,
     "metadata": {},
     "output_type": "execute_result"
    },
    {
     "data": {
      "image/png": "[encoded data removed]",
      "text/plain": [
       "<Figure size 800x600 with 1 Axes>"
      ]
     },
     "metadata": {},
     "output_type": "display_data"
    }
   ],
   "source": [
    "import matplotlib.pyplot as plt\n",
    "\n",
    "scores_from_loop = [TREE, RAN_FOR, SVM, NB, KNN]\n",
    "labels = [\"Tree\", \"Random Forest\", \"SVM\", \"Naive Bayes\", \"KNN\"]\n",
    "colors = ['grey', 'blue', 'green', 'red', 'orange']\n",
    "\n",
    "# Creating plot\n",
    "fig, (ax) = plt.subplots(figsize=(8, 6), edgecolor= \"blue\")\n",
    "\n",
    "bplot = ax.boxplot(scores_from_loop, \n",
    "                     vert=True,  # vertical box alignment\n",
    "                     patch_artist=False,  # fill with color\n",
    "                     labels=labels)  # will be used to label x-ticks\n",
    "ax.set_title('Weighted accuracy')\n",
    "ax.set_xticklabels(labels=labels, rotation = 45, fontsize=13)\n",
    "\n",
    "\n",
    "for patch, color in zip(bplot['boxes'], colors):\n",
    "    patch.set_color(color)\n",
    "\n",
    "# show plot\n",
    "plt.show()\n"
   ]
  },
  {
   "attachments": {},
   "cell_type": "markdown",
   "metadata": {},
   "source": [
    "modified version"
   ]
  },
  {
   "cell_type": "code",
   "execution_count": 66,
   "metadata": {},
   "outputs": [
    {
     "data": {
      "text/plain": [
       "Text(0.5, 1.0, 'Weighted accuracy')"
      ]
     },
     "execution_count": 66,
     "metadata": {},
     "output_type": "execute_result"
    },
    {
     "data": {
      "text/plain": [
       "[Text(1, 0, 'Tree'),\n",
       " Text(2, 0, 'Random Forest'),\n",
       " Text(3, 0, 'SVM'),\n",
       " Text(4, 0, 'Naive Bayes'),\n",
       " Text(5, 0, 'KNN')]"
      ]
     },
     "execution_count": 66,
     "metadata": {},
     "output_type": "execute_result"
    },
    {
     "data": {
      "image/png": "[encoded data removed]",
      "text/plain": [
       "<Figure size 800x600 with 1 Axes>"
      ]
     },
     "metadata": {},
     "output_type": "display_data"
    }
   ],
   "source": [
    "import matplotlib.pyplot as plt\n",
    "\n",
    "# for fancier plots\n",
    "import seaborn as sns\n",
    "sns.set_theme()\n",
    "\n",
    "scores_from_loop = [TREE, RAN_FOR, SVM, NB, KNN]\n",
    "labels = [\"Tree\", \"Random Forest\", \"SVM\", \"Naive Bayes\", \"KNN\"]\n",
    "colors = ['grey', 'blue', 'green', 'red', 'orange']\n",
    "colors2 = ['grey', 'grey', 'blue', 'blue', 'green', 'green', 'red', 'red', 'orange', 'orange']\n",
    "\n",
    "# Creating plot\n",
    "fig, (ax) = plt.subplots(figsize=(8, 6), edgecolor= \"blue\")\n",
    "\n",
    "bplot = ax.boxplot(scores_from_loop, \n",
    "                   vert=True,  # vertical box alignment\n",
    "                   patch_artist=False,  # fill with color\n",
    "                   labels=labels)  # will be used to label x-ticks\n",
    "                   \n",
    "dict_title = {'fontsize': 20, 'fontweight': 'bold'}\n",
    "ax.set_title('Weighted accuracy', fontdict=dict_title)\n",
    "ax.set_xticklabels(labels=labels, rotation = 45, fontsize=13)\n",
    "\n",
    "for element in ['boxes', 'fliers', 'means', 'medians']:\n",
    "    for patch, color in zip(bplot[element], colors):\n",
    "        patch.set_color(color)\n",
    "\n",
    "for element in ('whiskers', 'caps'):\n",
    "    for patch, color in zip(bplot[element], colors2):\n",
    "        patch.set_color(color)\n",
    "\n",
    "# saving plot\n",
    "plt.savefig('boxplot.png')\n",
    "\n",
    "# show plot\n",
    "plt.show()"
   ]
  }
 ],
 "metadata": {
  "kernelspec": {
   "display_name": "Python 3",
   "language": "python",
   "name": "python3"
  },
  "language_info": {
   "codemirror_mode": {
    "name": "ipython",
    "version": 3
   },
   "file_extension": ".py",
   "mimetype": "text/x-python",
   "name": "python",
   "nbconvert_exporter": "python",
   "pygments_lexer": "ipython3",
   "version": "3.10.6"
  },
  "orig_nbformat": 4,
  "vscode": {
   "interpreter": {
    "hash": "916dbcbb3f70747c44a77c7bcd40155683ae19c65e1c03b4aa3499c5328201f1"
   }
  }
 },
 "nbformat": 4,
 "nbformat_minor": 2
}
